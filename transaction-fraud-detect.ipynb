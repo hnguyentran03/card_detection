{
 "cells": [
  {
   "cell_type": "markdown",
   "metadata": {},
   "source": [
    "# Credit Card Transaction Fraud Detection"
   ]
  },
  {
   "cell_type": "code",
   "execution_count": 25,
   "metadata": {},
   "outputs": [
    {
     "name": "stderr",
     "output_type": "stream",
     "text": [
      "IProgress not found. Please update jupyter and ipywidgets. See https://ipywidgets.readthedocs.io/en/stable/user_install.html\n"
     ]
    }
   ],
   "source": [
    "# Preprocessing\n",
    "import numpy as np\n",
    "import pandas as pd\n",
    "from sklearn.preprocessing import OrdinalEncoder\n",
    "from sklearn.preprocessing import StandardScaler\n",
    "from sklearn.model_selection import train_test_split\n",
    "from sklearn.inspection import permutation_importance\n",
    "\n",
    "# Oversampling and Undersampling\n",
    "from imblearn.under_sampling import TomekLinks\n",
    "from imblearn.combine import SMOTETomek\n",
    "\n",
    "# Model\n",
    "import shap\n",
    "import xgboost as xgb\n",
    "from sklearn.linear_model import LogisticRegression\n",
    "from sklearn.tree import DecisionTreeClassifier\n",
    "from sklearn.ensemble import RandomForestClassifier\n",
    "from xgboost import XGBClassifier\n",
    "from sklearn.model_selection import RandomizedSearchCV\n",
    "\n",
    "from sklearn.metrics import accuracy_score\n",
    "from sklearn.metrics import classification_report\n",
    "from sklearn.metrics import confusion_matrix\n",
    "\n",
    "# Cross Validation\n",
    "from sklearn.model_selection import cross_val_score\n",
    "from sklearn.model_selection import StratifiedKFold\n",
    "from sklearn.metrics import f1_score\n",
    "\n",
    "# Figures\n",
    "import seaborn as sns\n",
    "import matplotlib.pyplot as plt\n",
    "import plotly.express as px\n",
    "from sklearn.metrics import ConfusionMatrixDisplay\n",
    "\n",
    "# For reproducability\n",
    "RANDOM_STATE = 1"
   ]
  },
  {
   "cell_type": "markdown",
   "metadata": {},
   "source": [
    "Loading the data."
   ]
  },
  {
   "cell_type": "code",
   "execution_count": 2,
   "metadata": {},
   "outputs": [],
   "source": [
    "data = pd.read_csv(r\"./fraudTrain.csv\")\n",
    "\n",
    "data.drop(data.columns[0], axis=1, inplace=True)"
   ]
  },
  {
   "cell_type": "markdown",
   "metadata": {},
   "source": [
    "## Imbalanced Data"
   ]
  },
  {
   "cell_type": "code",
   "execution_count": 3,
   "metadata": {},
   "outputs": [
    {
     "data": {
      "image/png": "[encoded data removed]",
      "text/plain": [
       "<Figure size 640x480 with 1 Axes>"
      ]
     },
     "metadata": {},
     "output_type": "display_data"
    }
   ],
   "source": [
    "labels = [\"Genuine\", \"Fraud\"]\n",
    "\n",
    "is_fraud_train = data[\"is_fraud\"].value_counts()\n",
    "\n",
    "plt.pie(is_fraud_train,labels=labels, colors=[\"lightgreen\", \"lightcoral\"], autopct='%1.1f%%')\n",
    "plt.title(\"Genuine vs. Fraud Transactions\")\n",
    "plt.show()"
   ]
  },
  {
   "cell_type": "markdown",
   "metadata": {},
   "source": [
    "Since 99.4% of the data are genuine transactions, if we do a blind guess of genuine transactions, we will have an accuracy of 99.4%."
   ]
  },
  {
   "cell_type": "markdown",
   "metadata": {},
   "source": [
    "## Exploratory Data Analysis\n",
    "\n",
    "Renaming the columns to be more intuitive and converted the times to be datetimes."
   ]
  },
  {
   "cell_type": "code",
   "execution_count": 4,
   "metadata": {},
   "outputs": [
    {
     "data": {
      "text/html": [
       "<div>\n",
       "<style scoped>\n",
       "    .dataframe tbody tr th:only-of-type {\n",
       "        vertical-align: middle;\n",
       "    }\n",
       "\n",
       "    .dataframe tbody tr th {\n",
       "        vertical-align: top;\n",
       "    }\n",
       "\n",
       "    .dataframe thead th {\n",
       "        text-align: right;\n",
       "    }\n",
       "</style>\n",
       "<table border=\"1\" class=\"dataframe\">\n",
       "  <thead>\n",
       "    <tr style=\"text-align: right;\">\n",
       "      <th></th>\n",
       "      <th>trans_time</th>\n",
       "      <th>credit_card</th>\n",
       "      <th>merchant</th>\n",
       "      <th>category</th>\n",
       "      <th>amt</th>\n",
       "      <th>first</th>\n",
       "      <th>last</th>\n",
       "      <th>gender</th>\n",
       "      <th>street</th>\n",
       "      <th>city</th>\n",
       "      <th>...</th>\n",
       "      <th>long</th>\n",
       "      <th>city_pop</th>\n",
       "      <th>job</th>\n",
       "      <th>dob</th>\n",
       "      <th>trans_id</th>\n",
       "      <th>unix_time</th>\n",
       "      <th>merch_lat</th>\n",
       "      <th>merch_long</th>\n",
       "      <th>is_fraud</th>\n",
       "      <th>time</th>\n",
       "    </tr>\n",
       "  </thead>\n",
       "  <tbody>\n",
       "    <tr>\n",
       "      <th>0</th>\n",
       "      <td>2019-01-01 00:00:18</td>\n",
       "      <td>2703186189652095</td>\n",
       "      <td>fraud_Rippin, Kub and Mann</td>\n",
       "      <td>misc_net</td>\n",
       "      <td>4.97</td>\n",
       "      <td>Jennifer</td>\n",
       "      <td>Banks</td>\n",
       "      <td>F</td>\n",
       "      <td>561 Perry Cove</td>\n",
       "      <td>Moravian Falls</td>\n",
       "      <td>...</td>\n",
       "      <td>-81.1781</td>\n",
       "      <td>3495</td>\n",
       "      <td>Psychologist, counselling</td>\n",
       "      <td>1988-03-09</td>\n",
       "      <td>0b242abb623afc578575680df30655b9</td>\n",
       "      <td>1325376018</td>\n",
       "      <td>36.011293</td>\n",
       "      <td>-82.048315</td>\n",
       "      <td>0</td>\n",
       "      <td>0</td>\n",
       "    </tr>\n",
       "    <tr>\n",
       "      <th>1</th>\n",
       "      <td>2019-01-01 00:00:44</td>\n",
       "      <td>630423337322</td>\n",
       "      <td>fraud_Heller, Gutmann and Zieme</td>\n",
       "      <td>grocery_pos</td>\n",
       "      <td>107.23</td>\n",
       "      <td>Stephanie</td>\n",
       "      <td>Gill</td>\n",
       "      <td>F</td>\n",
       "      <td>43039 Riley Greens Suite 393</td>\n",
       "      <td>Orient</td>\n",
       "      <td>...</td>\n",
       "      <td>-118.2105</td>\n",
       "      <td>149</td>\n",
       "      <td>Special educational needs teacher</td>\n",
       "      <td>1978-06-21</td>\n",
       "      <td>1f76529f8574734946361c461b024d99</td>\n",
       "      <td>1325376044</td>\n",
       "      <td>49.159047</td>\n",
       "      <td>-118.186462</td>\n",
       "      <td>0</td>\n",
       "      <td>0</td>\n",
       "    </tr>\n",
       "    <tr>\n",
       "      <th>2</th>\n",
       "      <td>2019-01-01 00:00:51</td>\n",
       "      <td>38859492057661</td>\n",
       "      <td>fraud_Lind-Buckridge</td>\n",
       "      <td>entertainment</td>\n",
       "      <td>220.11</td>\n",
       "      <td>Edward</td>\n",
       "      <td>Sanchez</td>\n",
       "      <td>M</td>\n",
       "      <td>594 White Dale Suite 530</td>\n",
       "      <td>Malad City</td>\n",
       "      <td>...</td>\n",
       "      <td>-112.2620</td>\n",
       "      <td>4154</td>\n",
       "      <td>Nature conservation officer</td>\n",
       "      <td>1962-01-19</td>\n",
       "      <td>a1a22d70485983eac12b5b88dad1cf95</td>\n",
       "      <td>1325376051</td>\n",
       "      <td>43.150704</td>\n",
       "      <td>-112.154481</td>\n",
       "      <td>0</td>\n",
       "      <td>0</td>\n",
       "    </tr>\n",
       "    <tr>\n",
       "      <th>3</th>\n",
       "      <td>2019-01-01 00:01:16</td>\n",
       "      <td>3534093764340240</td>\n",
       "      <td>fraud_Kutch, Hermiston and Farrell</td>\n",
       "      <td>gas_transport</td>\n",
       "      <td>45.00</td>\n",
       "      <td>Jeremy</td>\n",
       "      <td>White</td>\n",
       "      <td>M</td>\n",
       "      <td>9443 Cynthia Court Apt. 038</td>\n",
       "      <td>Boulder</td>\n",
       "      <td>...</td>\n",
       "      <td>-112.1138</td>\n",
       "      <td>1939</td>\n",
       "      <td>Patent attorney</td>\n",
       "      <td>1967-01-12</td>\n",
       "      <td>6b849c168bdad6f867558c3793159a81</td>\n",
       "      <td>1325376076</td>\n",
       "      <td>47.034331</td>\n",
       "      <td>-112.561071</td>\n",
       "      <td>0</td>\n",
       "      <td>0</td>\n",
       "    </tr>\n",
       "    <tr>\n",
       "      <th>4</th>\n",
       "      <td>2019-01-01 00:03:06</td>\n",
       "      <td>375534208663984</td>\n",
       "      <td>fraud_Keeling-Crist</td>\n",
       "      <td>misc_pos</td>\n",
       "      <td>41.96</td>\n",
       "      <td>Tyler</td>\n",
       "      <td>Garcia</td>\n",
       "      <td>M</td>\n",
       "      <td>408 Bradley Rest</td>\n",
       "      <td>Doe Hill</td>\n",
       "      <td>...</td>\n",
       "      <td>-79.4629</td>\n",
       "      <td>99</td>\n",
       "      <td>Dance movement psychotherapist</td>\n",
       "      <td>1986-03-28</td>\n",
       "      <td>a41d7549acf90789359a9aa5346dcb46</td>\n",
       "      <td>1325376186</td>\n",
       "      <td>38.674999</td>\n",
       "      <td>-78.632459</td>\n",
       "      <td>0</td>\n",
       "      <td>0</td>\n",
       "    </tr>\n",
       "  </tbody>\n",
       "</table>\n",
       "<p>5 rows × 23 columns</p>\n",
       "</div>"
      ],
      "text/plain": [
       "           trans_time       credit_card                            merchant  \\\n",
       "0 2019-01-01 00:00:18  2703186189652095          fraud_Rippin, Kub and Mann   \n",
       "1 2019-01-01 00:00:44      630423337322     fraud_Heller, Gutmann and Zieme   \n",
       "2 2019-01-01 00:00:51    38859492057661                fraud_Lind-Buckridge   \n",
       "3 2019-01-01 00:01:16  3534093764340240  fraud_Kutch, Hermiston and Farrell   \n",
       "4 2019-01-01 00:03:06   375534208663984                 fraud_Keeling-Crist   \n",
       "\n",
       "        category     amt      first     last gender  \\\n",
       "0       misc_net    4.97   Jennifer    Banks      F   \n",
       "1    grocery_pos  107.23  Stephanie     Gill      F   \n",
       "2  entertainment  220.11     Edward  Sanchez      M   \n",
       "3  gas_transport   45.00     Jeremy    White      M   \n",
       "4       misc_pos   41.96      Tyler   Garcia      M   \n",
       "\n",
       "                         street            city  ...      long  city_pop  \\\n",
       "0                561 Perry Cove  Moravian Falls  ...  -81.1781      3495   \n",
       "1  43039 Riley Greens Suite 393          Orient  ... -118.2105       149   \n",
       "2      594 White Dale Suite 530      Malad City  ... -112.2620      4154   \n",
       "3   9443 Cynthia Court Apt. 038         Boulder  ... -112.1138      1939   \n",
       "4              408 Bradley Rest        Doe Hill  ...  -79.4629        99   \n",
       "\n",
       "                                 job        dob  \\\n",
       "0          Psychologist, counselling 1988-03-09   \n",
       "1  Special educational needs teacher 1978-06-21   \n",
       "2        Nature conservation officer 1962-01-19   \n",
       "3                    Patent attorney 1967-01-12   \n",
       "4     Dance movement psychotherapist 1986-03-28   \n",
       "\n",
       "                           trans_id   unix_time  merch_lat  merch_long  \\\n",
       "0  0b242abb623afc578575680df30655b9  1325376018  36.011293  -82.048315   \n",
       "1  1f76529f8574734946361c461b024d99  1325376044  49.159047 -118.186462   \n",
       "2  a1a22d70485983eac12b5b88dad1cf95  1325376051  43.150704 -112.154481   \n",
       "3  6b849c168bdad6f867558c3793159a81  1325376076  47.034331 -112.561071   \n",
       "4  a41d7549acf90789359a9aa5346dcb46  1325376186  38.674999  -78.632459   \n",
       "\n",
       "   is_fraud  time  \n",
       "0         0     0  \n",
       "1         0     0  \n",
       "2         0     0  \n",
       "3         0     0  \n",
       "4         0     0  \n",
       "\n",
       "[5 rows x 23 columns]"
      ]
     },
     "execution_count": 4,
     "metadata": {},
     "output_type": "execute_result"
    }
   ],
   "source": [
    "data.rename(columns={\"cc_num\": \"credit_card\",\n",
    "                     \"trans_date_trans_time\": \"trans_time\",\n",
    "                     \"trans_num\": \"trans_id\"},\n",
    "                inplace=True)\n",
    "\n",
    "# Turning the transaction time to be numerical and based on time only.\n",
    "data[\"trans_time\"] = pd.to_datetime(data[\"trans_time\"])\n",
    "data[\"dob\"] = pd.to_datetime(data[\"dob\"])\n",
    "\n",
    "# Changing to time of day.\n",
    "data[\"time\"] = pd.to_datetime(data[\"unix_time\"], unit=\"s\")\n",
    "data[\"time\"] = data[\"time\"].dt.hour\n",
    "\n",
    "data.head(5)"
   ]
  },
  {
   "cell_type": "markdown",
   "metadata": {},
   "source": [
    "Checking for missing data."
   ]
  },
  {
   "cell_type": "code",
   "execution_count": 5,
   "metadata": {},
   "outputs": [
    {
     "data": {
      "text/plain": [
       "trans_time     0\n",
       "credit_card    0\n",
       "merchant       0\n",
       "category       0\n",
       "amt            0\n",
       "first          0\n",
       "last           0\n",
       "gender         0\n",
       "street         0\n",
       "city           0\n",
       "state          0\n",
       "zip            0\n",
       "lat            0\n",
       "long           0\n",
       "city_pop       0\n",
       "job            0\n",
       "dob            0\n",
       "trans_id       0\n",
       "unix_time      0\n",
       "merch_lat      0\n",
       "merch_long     0\n",
       "is_fraud       0\n",
       "time           0\n",
       "dtype: int64"
      ]
     },
     "execution_count": 5,
     "metadata": {},
     "output_type": "execute_result"
    }
   ],
   "source": [
    "data.isnull().sum()"
   ]
  },
  {
   "cell_type": "markdown",
   "metadata": {},
   "source": [
    "Checking elements within features."
   ]
  },
  {
   "cell_type": "code",
   "execution_count": 6,
   "metadata": {},
   "outputs": [
    {
     "name": "stdout",
     "output_type": "stream",
     "text": [
      "The number of unique values for features trans_time: 1274791\n",
      "The number of unique values for features credit_card: 983\n",
      "The number of unique values for features merchant: 693\n",
      "The number of unique values for features category: 14 ---> ['entertainment' 'food_dining' 'gas_transport' 'grocery_net' 'grocery_pos'\n",
      " 'health_fitness' 'home' 'kids_pets' 'misc_net' 'misc_pos' 'personal_care'\n",
      " 'shopping_net' 'shopping_pos' 'travel']\n",
      "The number of unique values for features amt: 52928\n",
      "The number of unique values for features first: 352\n",
      "The number of unique values for features last: 481\n",
      "The number of unique values for features gender: 2 ---> ['F' 'M']\n",
      "The number of unique values for features street: 983\n",
      "The number of unique values for features city: 894\n",
      "The number of unique values for features state: 51\n",
      "The number of unique values for features zip: 970\n",
      "The number of unique values for features lat: 968\n",
      "The number of unique values for features long: 969\n",
      "The number of unique values for features city_pop: 879\n",
      "The number of unique values for features job: 494\n",
      "The number of unique values for features dob: 968\n",
      "The number of unique values for features trans_id: 1296675\n",
      "The number of unique values for features unix_time: 1274823\n",
      "The number of unique values for features merch_lat: 1247805\n",
      "The number of unique values for features merch_long: 1275745\n",
      "The number of unique values for features is_fraud: 2 ---> [0 1]\n",
      "The number of unique values for features time: 24\n"
     ]
    }
   ],
   "source": [
    "for col in data:\n",
    "    unique_vals = np.unique(data[col])\n",
    "    n_unique = len(unique_vals)\n",
    "    if n_unique < 24:\n",
    "        print(f\"The number of unique values for features {col}: {n_unique} ---> {unique_vals}\")\n",
    "    else:\n",
    "        print(f\"The number of unique values for features {col}: {n_unique}\")"
   ]
  },
  {
   "cell_type": "markdown",
   "metadata": {},
   "source": [
    "Visualizing transaction amounts over time."
   ]
  },
  {
   "cell_type": "code",
   "execution_count": 46,
   "metadata": {},
   "outputs": [
    {
     "data": {
      "application/vnd.plotly.v1+json": {
       "config": {
        "plotlyServerURL": "https://plot.ly"
       },
       "data": [
        {
         "fillpattern": {
          "shape": ""
         },
         "hovertemplate": "category=entertainment<br>Transaction Time=%{x}<br>Amount=%{y}<extra></extra>",
         "legendgroup": "entertainment",
         "line": {
          "color": "#636efa"
         },
         "marker": {
          "symbol": "circle"
         },
         "mode": "lines",
         "name": "entertainment",
         "orientation": "v",
         "showlegend": true,
         "stackgroup": "1",
         "type": "scatter",
         "x": [
          "2019-01-31T00:00:00",
          "2019-02-28T00:00:00",
          "2019-03-31T00:00:00",
          "2019-04-30T00:00:00",
          "2019-05-31T00:00:00",
          "2019-06-30T00:00:00",
          "2019-07-31T00:00:00",
          "2019-08-31T00:00:00",
          "2019-09-30T00:00:00",
          "2019-10-31T00:00:00",
          "2019-11-30T00:00:00",
          "2019-12-31T00:00:00",
          "2020-01-31T00:00:00",
          "2020-02-29T00:00:00",
          "2020-03-31T00:00:00",
          "2020-04-30T00:00:00",
          "2020-05-31T00:00:00",
          "2020-06-30T00:00:00"
         ],
         "xaxis": "x",
         "y": [
          13977.631964221753,
          13235.057914089262,
          18465.92437252189,
          18250.461748180198,
          19227.351157484656,
          22479.682819911002,
          23100.220481665216,
          23512.303105665374,
          18507.518317401078,
          18175.914992546423,
          18385.08074850834,
          37796.133612736514,
          13995.62806514827,
          12426.31892945909,
          19578.738160902343,
          17458.138187364315,
          19876.1768751066,
          15190.241772030218
         ],
         "yaxis": "y"
        },
        {
         "fillpattern": {
          "shape": ""
         },
         "hovertemplate": "category=food_dining<br>Transaction Time=%{x}<br>Amount=%{y}<extra></extra>",
         "legendgroup": "food_dining",
         "line": {
          "color": "#EF553B"
         },
         "marker": {
          "symbol": "circle"
         },
         "mode": "lines",
         "name": "food_dining",
         "orientation": "v",
         "showlegend": true,
         "stackgroup": "1",
         "type": "scatter",
         "x": [
          "2019-01-31T00:00:00",
          "2019-02-28T00:00:00",
          "2019-03-31T00:00:00",
          "2019-04-30T00:00:00",
          "2019-05-31T00:00:00",
          "2019-06-30T00:00:00",
          "2019-07-31T00:00:00",
          "2019-08-31T00:00:00",
          "2019-09-30T00:00:00",
          "2019-10-31T00:00:00",
          "2019-11-30T00:00:00",
          "2019-12-31T00:00:00",
          "2020-01-31T00:00:00",
          "2020-02-29T00:00:00",
          "2020-03-31T00:00:00",
          "2020-04-30T00:00:00",
          "2020-05-31T00:00:00",
          "2020-06-30T00:00:00"
         ],
         "xaxis": "x",
         "y": [
          12969.822549087728,
          12260.341299981475,
          17162.83265651432,
          16728.502254165265,
          17872.425758017023,
          20698.12094875386,
          20503.45701680781,
          21593.594413896328,
          17524.59479082082,
          16874.40127020312,
          17388.94282759078,
          33965.101472413095,
          12487.780965443759,
          11446.906415043475,
          17704.259728428508,
          16385.14456975646,
          17864.433230544688,
          13379.055561310824
         ],
         "yaxis": "y"
        },
        {
         "fillpattern": {
          "shape": ""
         },
         "hovertemplate": "category=gas_transport<br>Transaction Time=%{x}<br>Amount=%{y}<extra></extra>",
         "legendgroup": "gas_transport",
         "line": {
          "color": "#00cc96"
         },
         "marker": {
          "symbol": "circle"
         },
         "mode": "lines",
         "name": "gas_transport",
         "orientation": "v",
         "showlegend": true,
         "stackgroup": "1",
         "type": "scatter",
         "x": [
          "2019-01-31T00:00:00",
          "2019-02-28T00:00:00",
          "2019-03-31T00:00:00",
          "2019-04-30T00:00:00",
          "2019-05-31T00:00:00",
          "2019-06-30T00:00:00",
          "2019-07-31T00:00:00",
          "2019-08-31T00:00:00",
          "2019-09-30T00:00:00",
          "2019-10-31T00:00:00",
          "2019-11-30T00:00:00",
          "2019-12-31T00:00:00",
          "2020-01-31T00:00:00",
          "2020-02-29T00:00:00",
          "2020-03-31T00:00:00",
          "2020-04-30T00:00:00",
          "2020-05-31T00:00:00",
          "2020-06-30T00:00:00"
         ],
         "xaxis": "x",
         "y": [
          21740.261563210333,
          21252.361734876493,
          29181.235358352296,
          28952.399183468,
          29978.298491246762,
          36659.65735982968,
          36594.92165322455,
          36935.832209858694,
          29511.689231802393,
          28369.03913765669,
          29539.586429728246,
          59128.34001787637,
          21757.822418888445,
          19943.127223955307,
          30412.013694067446,
          27919.567059216763,
          31383.615493625504,
          24795.776027043426
         ],
         "yaxis": "y"
        },
        {
         "fillpattern": {
          "shape": ""
         },
         "hovertemplate": "category=grocery_net<br>Transaction Time=%{x}<br>Amount=%{y}<extra></extra>",
         "legendgroup": "grocery_net",
         "line": {
          "color": "#ab63fa"
         },
         "marker": {
          "symbol": "circle"
         },
         "mode": "lines",
         "name": "grocery_net",
         "orientation": "v",
         "showlegend": true,
         "stackgroup": "1",
         "type": "scatter",
         "x": [
          "2019-01-31T00:00:00",
          "2019-02-28T00:00:00",
          "2019-03-31T00:00:00",
          "2019-04-30T00:00:00",
          "2019-05-31T00:00:00",
          "2019-06-30T00:00:00",
          "2019-07-31T00:00:00",
          "2019-08-31T00:00:00",
          "2019-09-30T00:00:00",
          "2019-10-31T00:00:00",
          "2019-11-30T00:00:00",
          "2019-12-31T00:00:00",
          "2020-01-31T00:00:00",
          "2020-02-29T00:00:00",
          "2020-03-31T00:00:00",
          "2020-04-30T00:00:00",
          "2020-05-31T00:00:00",
          "2020-06-30T00:00:00"
         ],
         "xaxis": "x",
         "y": [
          7044.037852997653,
          6825.545247098601,
          9572.217142236297,
          9558.858588429077,
          9896.260783557329,
          11651.071449777655,
          11744.632604926663,
          12196.406133803628,
          9421.297469685376,
          9273.115740418038,
          9655.5245904688,
          19558.777333772294,
          7116.776241130287,
          6863.239346267216,
          9581.025024350385,
          9043.629956148645,
          10518.548279557717,
          8053.06161082347
         ],
         "yaxis": "y"
        },
        {
         "fillpattern": {
          "shape": ""
         },
         "hovertemplate": "category=grocery_pos<br>Transaction Time=%{x}<br>Amount=%{y}<extra></extra>",
         "legendgroup": "grocery_pos",
         "line": {
          "color": "#FFA15A"
         },
         "marker": {
          "symbol": "circle"
         },
         "mode": "lines",
         "name": "grocery_pos",
         "orientation": "v",
         "showlegend": true,
         "stackgroup": "1",
         "type": "scatter",
         "x": [
          "2019-01-31T00:00:00",
          "2019-02-28T00:00:00",
          "2019-03-31T00:00:00",
          "2019-04-30T00:00:00",
          "2019-05-31T00:00:00",
          "2019-06-30T00:00:00",
          "2019-07-31T00:00:00",
          "2019-08-31T00:00:00",
          "2019-09-30T00:00:00",
          "2019-10-31T00:00:00",
          "2019-11-30T00:00:00",
          "2019-12-31T00:00:00",
          "2020-01-31T00:00:00",
          "2020-02-29T00:00:00",
          "2020-03-31T00:00:00",
          "2020-04-30T00:00:00",
          "2020-05-31T00:00:00",
          "2020-06-30T00:00:00"
         ],
         "xaxis": "x",
         "y": [
          22995.866257586757,
          22400.179748192044,
          31748.3178609834,
          30586.131491578828,
          33129.160269406966,
          38380.16063500919,
          38579.436009994024,
          38220.46568695274,
          30418.722990592018,
          30413.469574998497,
          31389.529624676437,
          62319.911549705015,
          23145.861987509317,
          21677.60732764903,
          32890.183455683975,
          30488.85572004645,
          32489.590697282103,
          26402.555496707875
         ],
         "yaxis": "y"
        },
        {
         "fillpattern": {
          "shape": ""
         },
         "hovertemplate": "category=health_fitness<br>Transaction Time=%{x}<br>Amount=%{y}<extra></extra>",
         "legendgroup": "health_fitness",
         "line": {
          "color": "#19d3f3"
         },
         "marker": {
          "symbol": "circle"
         },
         "mode": "lines",
         "name": "health_fitness",
         "orientation": "v",
         "showlegend": true,
         "stackgroup": "1",
         "type": "scatter",
         "x": [
          "2019-01-31T00:00:00",
          "2019-02-28T00:00:00",
          "2019-03-31T00:00:00",
          "2019-04-30T00:00:00",
          "2019-05-31T00:00:00",
          "2019-06-30T00:00:00",
          "2019-07-31T00:00:00",
          "2019-08-31T00:00:00",
          "2019-09-30T00:00:00",
          "2019-10-31T00:00:00",
          "2019-11-30T00:00:00",
          "2019-12-31T00:00:00",
          "2020-01-31T00:00:00",
          "2020-02-29T00:00:00",
          "2020-03-31T00:00:00",
          "2020-04-30T00:00:00",
          "2020-05-31T00:00:00",
          "2020-06-30T00:00:00"
         ],
         "xaxis": "x",
         "y": [
          12733.717300802955,
          12109.570571051181,
          16774.763909570673,
          16395.129254406973,
          16754.074178001058,
          20571.362474362915,
          20261.213812448914,
          20719.347963394746,
          16459.37629739981,
          16444.573540877853,
          15931.732155253927,
          33202.8405528922,
          12587.547375173883,
          11388.03404972952,
          17594.798206629108,
          15936.675310338444,
          17472.382322523514,
          13649.316743123514
         ],
         "yaxis": "y"
        },
        {
         "fillpattern": {
          "shape": ""
         },
         "hovertemplate": "category=home<br>Transaction Time=%{x}<br>Amount=%{y}<extra></extra>",
         "legendgroup": "home",
         "line": {
          "color": "#FF6692"
         },
         "marker": {
          "symbol": "circle"
         },
         "mode": "lines",
         "name": "home",
         "orientation": "v",
         "showlegend": true,
         "stackgroup": "1",
         "type": "scatter",
         "x": [
          "2019-01-31T00:00:00",
          "2019-02-28T00:00:00",
          "2019-03-31T00:00:00",
          "2019-04-30T00:00:00",
          "2019-05-31T00:00:00",
          "2019-06-30T00:00:00",
          "2019-07-31T00:00:00",
          "2019-08-31T00:00:00",
          "2019-09-30T00:00:00",
          "2019-10-31T00:00:00",
          "2019-11-30T00:00:00",
          "2019-12-31T00:00:00",
          "2020-01-31T00:00:00",
          "2020-02-29T00:00:00",
          "2020-03-31T00:00:00",
          "2020-04-30T00:00:00",
          "2020-05-31T00:00:00",
          "2020-06-30T00:00:00"
         ],
         "xaxis": "x",
         "y": [
          18761.84388164899,
          17136.317688589967,
          25118.71319336092,
          23562.950336049442,
          25537.461921824346,
          30086.23060519867,
          30400.640040206003,
          30213.463990611584,
          24822.834409896608,
          24305.278600145688,
          25106.550209691668,
          49845.65917299442,
          18492.34699615924,
          16710.34875727693,
          25981.894829425764,
          23500.848018082586,
          25483.232886769063,
          20166.89864186068
         ],
         "yaxis": "y"
        },
        {
         "fillpattern": {
          "shape": ""
         },
         "hovertemplate": "category=kids_pets<br>Transaction Time=%{x}<br>Amount=%{y}<extra></extra>",
         "legendgroup": "kids_pets",
         "line": {
          "color": "#B6E880"
         },
         "marker": {
          "symbol": "circle"
         },
         "mode": "lines",
         "name": "kids_pets",
         "orientation": "v",
         "showlegend": true,
         "stackgroup": "1",
         "type": "scatter",
         "x": [
          "2019-01-31T00:00:00",
          "2019-02-28T00:00:00",
          "2019-03-31T00:00:00",
          "2019-04-30T00:00:00",
          "2019-05-31T00:00:00",
          "2019-06-30T00:00:00",
          "2019-07-31T00:00:00",
          "2019-08-31T00:00:00",
          "2019-09-30T00:00:00",
          "2019-10-31T00:00:00",
          "2019-11-30T00:00:00",
          "2019-12-31T00:00:00",
          "2020-01-31T00:00:00",
          "2020-02-29T00:00:00",
          "2020-03-31T00:00:00",
          "2020-04-30T00:00:00",
          "2020-05-31T00:00:00",
          "2020-06-30T00:00:00"
         ],
         "xaxis": "x",
         "y": [
          16790.32197262828,
          15931.236570350711,
          22668.92898003157,
          22141.75196610521,
          23304.595991531623,
          27826.493797946787,
          27934.4940781322,
          28121.422793342146,
          23061.541745330986,
          22333.282873531825,
          23131.199744744958,
          45017.24158670248,
          16670.413323989767,
          15512.361560281,
          23580.87154988893,
          21538.29449999144,
          24308.830347163315,
          18235.674819388438
         ],
         "yaxis": "y"
        },
        {
         "fillpattern": {
          "shape": ""
         },
         "hovertemplate": "category=misc_net<br>Transaction Time=%{x}<br>Amount=%{y}<extra></extra>",
         "legendgroup": "misc_net",
         "line": {
          "color": "#FF97FF"
         },
         "marker": {
          "symbol": "circle"
         },
         "mode": "lines",
         "name": "misc_net",
         "orientation": "v",
         "showlegend": true,
         "stackgroup": "1",
         "type": "scatter",
         "x": [
          "2019-01-31T00:00:00",
          "2019-02-28T00:00:00",
          "2019-03-31T00:00:00",
          "2019-04-30T00:00:00",
          "2019-05-31T00:00:00",
          "2019-06-30T00:00:00",
          "2019-07-31T00:00:00",
          "2019-08-31T00:00:00",
          "2019-09-30T00:00:00",
          "2019-10-31T00:00:00",
          "2019-11-30T00:00:00",
          "2019-12-31T00:00:00",
          "2020-01-31T00:00:00",
          "2020-02-29T00:00:00",
          "2020-03-31T00:00:00",
          "2020-04-30T00:00:00",
          "2020-05-31T00:00:00",
          "2020-06-30T00:00:00"
         ],
         "xaxis": "x",
         "y": [
          8132.517838849996,
          7347.738852932424,
          10724.516790389676,
          9883.948151419749,
          10813.40744645437,
          12812.313215304606,
          12790.93223147509,
          13203.141355183274,
          10697.425629259093,
          10394.523030084132,
          10317.063817335205,
          20671.51246298978,
          7843.807269567304,
          7069.136836797953,
          10922.636397122818,
          9915.047215151755,
          11441.284808909162,
          8697.557389020876
         ],
         "yaxis": "y"
        },
        {
         "fillpattern": {
          "shape": ""
         },
         "hovertemplate": "category=misc_pos<br>Transaction Time=%{x}<br>Amount=%{y}<extra></extra>",
         "legendgroup": "misc_pos",
         "line": {
          "color": "#FECB52"
         },
         "marker": {
          "symbol": "circle"
         },
         "mode": "lines",
         "name": "misc_pos",
         "orientation": "v",
         "showlegend": true,
         "stackgroup": "1",
         "type": "scatter",
         "x": [
          "2019-01-31T00:00:00",
          "2019-02-28T00:00:00",
          "2019-03-31T00:00:00",
          "2019-04-30T00:00:00",
          "2019-05-31T00:00:00",
          "2019-06-30T00:00:00",
          "2019-07-31T00:00:00",
          "2019-08-31T00:00:00",
          "2019-09-30T00:00:00",
          "2019-10-31T00:00:00",
          "2019-11-30T00:00:00",
          "2019-12-31T00:00:00",
          "2020-01-31T00:00:00",
          "2020-02-29T00:00:00",
          "2020-03-31T00:00:00",
          "2020-04-30T00:00:00",
          "2020-05-31T00:00:00",
          "2020-06-30T00:00:00"
         ],
         "xaxis": "x",
         "y": [
          9367.56776366059,
          9155.059620385377,
          12968.231046063409,
          12282.823784466314,
          13124.699684313218,
          15922.532646187197,
          15939.386389274854,
          16143.271264606134,
          12914.60697379836,
          12696.963182938034,
          13225.721098908953,
          26485.64809663057,
          9766.716544561155,
          8862.330960393288,
          13332.36065841653,
          12185.625399169552,
          13881.810177762158,
          10717.319252726691
         ],
         "yaxis": "y"
        },
        {
         "fillpattern": {
          "shape": ""
         },
         "hovertemplate": "category=personal_care<br>Transaction Time=%{x}<br>Amount=%{y}<extra></extra>",
         "legendgroup": "personal_care",
         "line": {
          "color": "#636efa"
         },
         "marker": {
          "symbol": "circle"
         },
         "mode": "lines",
         "name": "personal_care",
         "orientation": "v",
         "showlegend": true,
         "stackgroup": "1",
         "type": "scatter",
         "x": [
          "2019-01-31T00:00:00",
          "2019-02-28T00:00:00",
          "2019-03-31T00:00:00",
          "2019-04-30T00:00:00",
          "2019-05-31T00:00:00",
          "2019-06-30T00:00:00",
          "2019-07-31T00:00:00",
          "2019-08-31T00:00:00",
          "2019-09-30T00:00:00",
          "2019-10-31T00:00:00",
          "2019-11-30T00:00:00",
          "2019-12-31T00:00:00",
          "2020-01-31T00:00:00",
          "2020-02-29T00:00:00",
          "2020-03-31T00:00:00",
          "2020-04-30T00:00:00",
          "2020-05-31T00:00:00",
          "2020-06-30T00:00:00"
         ],
         "xaxis": "x",
         "y": [
          12572.065987811173,
          11841.579636778588,
          16137.46041677254,
          16056.091012991781,
          16998.16623407903,
          20819.641265016835,
          20410.793909782344,
          20463.516168186838,
          16933.630558450754,
          16190.232309379628,
          16650.496496752916,
          32899.58392009173,
          12328.317894833384,
          11278.193367876562,
          16987.329270958347,
          15552.991936556942,
          17260.85750349133,
          13561.325192217286
         ],
         "yaxis": "y"
        },
        {
         "fillpattern": {
          "shape": ""
         },
         "hovertemplate": "category=shopping_net<br>Transaction Time=%{x}<br>Amount=%{y}<extra></extra>",
         "legendgroup": "shopping_net",
         "line": {
          "color": "#EF553B"
         },
         "marker": {
          "symbol": "circle"
         },
         "mode": "lines",
         "name": "shopping_net",
         "orientation": "v",
         "showlegend": true,
         "stackgroup": "1",
         "type": "scatter",
         "x": [
          "2019-01-31T00:00:00",
          "2019-02-28T00:00:00",
          "2019-03-31T00:00:00",
          "2019-04-30T00:00:00",
          "2019-05-31T00:00:00",
          "2019-06-30T00:00:00",
          "2019-07-31T00:00:00",
          "2019-08-31T00:00:00",
          "2019-09-30T00:00:00",
          "2019-10-31T00:00:00",
          "2019-11-30T00:00:00",
          "2019-12-31T00:00:00",
          "2020-01-31T00:00:00",
          "2020-02-29T00:00:00",
          "2020-03-31T00:00:00",
          "2020-04-30T00:00:00",
          "2020-05-31T00:00:00",
          "2020-06-30T00:00:00"
         ],
         "xaxis": "x",
         "y": [
          12016.801210000109,
          11047.449665125989,
          15900.997326669178,
          14603.776696767784,
          15928.800155143965,
          17769.61133945641,
          18835.345714068444,
          18652.60426555761,
          15479.607814006955,
          15156.556661128092,
          15442.97002273987,
          30716.489507835002,
          11509.938368067002,
          10378.484839993476,
          15938.971142363827,
          14717.611265956799,
          16139.116423908612,
          12691.769456197493
         ],
         "yaxis": "y"
        },
        {
         "fillpattern": {
          "shape": ""
         },
         "hovertemplate": "category=shopping_pos<br>Transaction Time=%{x}<br>Amount=%{y}<extra></extra>",
         "legendgroup": "shopping_pos",
         "line": {
          "color": "#00cc96"
         },
         "marker": {
          "symbol": "circle"
         },
         "mode": "lines",
         "name": "shopping_pos",
         "orientation": "v",
         "showlegend": true,
         "stackgroup": "1",
         "type": "scatter",
         "x": [
          "2019-01-31T00:00:00",
          "2019-02-28T00:00:00",
          "2019-03-31T00:00:00",
          "2019-04-30T00:00:00",
          "2019-05-31T00:00:00",
          "2019-06-30T00:00:00",
          "2019-07-31T00:00:00",
          "2019-08-31T00:00:00",
          "2019-09-30T00:00:00",
          "2019-10-31T00:00:00",
          "2019-11-30T00:00:00",
          "2019-12-31T00:00:00",
          "2020-01-31T00:00:00",
          "2020-02-29T00:00:00",
          "2020-03-31T00:00:00",
          "2020-04-30T00:00:00",
          "2020-05-31T00:00:00",
          "2020-06-30T00:00:00"
         ],
         "xaxis": "x",
         "y": [
          13131.432707798733,
          12524.662291564107,
          17964.674118739582,
          16745.413422986378,
          18302.760204200255,
          21821.99722618787,
          21405.03717661931,
          21217.55095720465,
          17860.500149125055,
          17510.722913070425,
          17319.160053739837,
          35554.785634219515,
          13134.177322505442,
          12207.91745675552,
          18169.463594765108,
          17025.67355021161,
          18558.63957326312,
          14781.488610990038
         ],
         "yaxis": "y"
        },
        {
         "fillpattern": {
          "shape": ""
         },
         "hovertemplate": "category=travel<br>Transaction Time=%{x}<br>Amount=%{y}<extra></extra>",
         "legendgroup": "travel",
         "line": {
          "color": "#ab63fa"
         },
         "marker": {
          "symbol": "circle"
         },
         "mode": "lines",
         "name": "travel",
         "orientation": "v",
         "showlegend": true,
         "stackgroup": "1",
         "type": "scatter",
         "x": [
          "2019-01-31T00:00:00",
          "2019-02-28T00:00:00",
          "2019-03-31T00:00:00",
          "2019-04-30T00:00:00",
          "2019-05-31T00:00:00",
          "2019-06-30T00:00:00",
          "2019-07-31T00:00:00",
          "2019-08-31T00:00:00",
          "2019-09-30T00:00:00",
          "2019-10-31T00:00:00",
          "2019-11-30T00:00:00",
          "2019-12-31T00:00:00",
          "2020-01-31T00:00:00",
          "2020-02-29T00:00:00",
          "2020-03-31T00:00:00",
          "2020-04-30T00:00:00",
          "2020-05-31T00:00:00",
          "2020-06-30T00:00:00"
         ],
         "xaxis": "x",
         "y": [
          3917.5631543004633,
          3851.7229108769966,
          5689.316719517879,
          4969.974098400403,
          5455.634065905966,
          6604.97794347419,
          6671.011524698059,
          6651.761953500231,
          5435.376555759332,
          5178.4796719294545,
          5267.567537529225,
          10611.577925714751,
          3784.0583235293857,
          3578.7730013403593,
          5404.3855573632645,
          5236.906005374617,
          5507.76210047809,
          4106.76232229235
         ],
         "yaxis": "y"
        }
       ],
       "layout": {
        "height": 600,
        "legend": {
         "title": {
          "text": "Categories"
         },
         "tracegroupgap": 0
        },
        "template": {
         "data": {
          "bar": [
           {
            "error_x": {
             "color": "#2a3f5f"
            },
            "error_y": {
             "color": "#2a3f5f"
            },
            "marker": {
             "line": {
              "color": "#E5ECF6",
              "width": 0.5
             },
             "pattern": {
              "fillmode": "overlay",
              "size": 10,
              "solidity": 0.2
             }
            },
            "type": "bar"
           }
          ],
          "barpolar": [
           {
            "marker": {
             "line": {
              "color": "#E5ECF6",
              "width": 0.5
             },
             "pattern": {
              "fillmode": "overlay",
              "size": 10,
              "solidity": 0.2
             }
            },
            "type": "barpolar"
           }
          ],
          "carpet": [
           {
            "aaxis": {
             "endlinecolor": "#2a3f5f",
             "gridcolor": "white",
             "linecolor": "white",
             "minorgridcolor": "white",
             "startlinecolor": "#2a3f5f"
            },
            "baxis": {
             "endlinecolor": "#2a3f5f",
             "gridcolor": "white",
             "linecolor": "white",
             "minorgridcolor": "white",
             "startlinecolor": "#2a3f5f"
            },
            "type": "carpet"
           }
          ],
          "choropleth": [
           {
            "colorbar": {
             "outlinewidth": 0,
             "ticks": ""
            },
            "type": "choropleth"
           }
          ],
          "contour": [
           {
            "colorbar": {
             "outlinewidth": 0,
             "ticks": ""
            },
            "colorscale": [
             [
              0,
              "#0d0887"
             ],
             [
              0.1111111111111111,
              "#46039f"
             ],
             [
              0.2222222222222222,
              "#7201a8"
             ],
             [
              0.3333333333333333,
              "#9c179e"
             ],
             [
              0.4444444444444444,
              "#bd3786"
             ],
             [
              0.5555555555555556,
              "#d8576b"
             ],
             [
              0.6666666666666666,
              "#ed7953"
             ],
             [
              0.7777777777777778,
              "#fb9f3a"
             ],
             [
              0.8888888888888888,
              "#fdca26"
             ],
             [
              1,
              "#f0f921"
             ]
            ],
            "type": "contour"
           }
          ],
          "contourcarpet": [
           {
            "colorbar": {
             "outlinewidth": 0,
             "ticks": ""
            },
            "type": "contourcarpet"
           }
          ],
          "heatmap": [
           {
            "colorbar": {
             "outlinewidth": 0,
             "ticks": ""
            },
            "colorscale": [
             [
              0,
              "#0d0887"
             ],
             [
              0.1111111111111111,
              "#46039f"
             ],
             [
              0.2222222222222222,
              "#7201a8"
             ],
             [
              0.3333333333333333,
              "#9c179e"
             ],
             [
              0.4444444444444444,
              "#bd3786"
             ],
             [
              0.5555555555555556,
              "#d8576b"
             ],
             [
              0.6666666666666666,
              "#ed7953"
             ],
             [
              0.7777777777777778,
              "#fb9f3a"
             ],
             [
              0.8888888888888888,
              "#fdca26"
             ],
             [
              1,
              "#f0f921"
             ]
            ],
            "type": "heatmap"
           }
          ],
          "heatmapgl": [
           {
            "colorbar": {
             "outlinewidth": 0,
             "ticks": ""
            },
            "colorscale": [
             [
              0,
              "#0d0887"
             ],
             [
              0.1111111111111111,
              "#46039f"
             ],
             [
              0.2222222222222222,
              "#7201a8"
             ],
             [
              0.3333333333333333,
              "#9c179e"
             ],
             [
              0.4444444444444444,
              "#bd3786"
             ],
             [
              0.5555555555555556,
              "#d8576b"
             ],
             [
              0.6666666666666666,
              "#ed7953"
             ],
             [
              0.7777777777777778,
              "#fb9f3a"
             ],
             [
              0.8888888888888888,
              "#fdca26"
             ],
             [
              1,
              "#f0f921"
             ]
            ],
            "type": "heatmapgl"
           }
          ],
          "histogram": [
           {
            "marker": {
             "pattern": {
              "fillmode": "overlay",
              "size": 10,
              "solidity": 0.2
             }
            },
            "type": "histogram"
           }
          ],
          "histogram2d": [
           {
            "colorbar": {
             "outlinewidth": 0,
             "ticks": ""
            },
            "colorscale": [
             [
              0,
              "#0d0887"
             ],
             [
              0.1111111111111111,
              "#46039f"
             ],
             [
              0.2222222222222222,
              "#7201a8"
             ],
             [
              0.3333333333333333,
              "#9c179e"
             ],
             [
              0.4444444444444444,
              "#bd3786"
             ],
             [
              0.5555555555555556,
              "#d8576b"
             ],
             [
              0.6666666666666666,
              "#ed7953"
             ],
             [
              0.7777777777777778,
              "#fb9f3a"
             ],
             [
              0.8888888888888888,
              "#fdca26"
             ],
             [
              1,
              "#f0f921"
             ]
            ],
            "type": "histogram2d"
           }
          ],
          "histogram2dcontour": [
           {
            "colorbar": {
             "outlinewidth": 0,
             "ticks": ""
            },
            "colorscale": [
             [
              0,
              "#0d0887"
             ],
             [
              0.1111111111111111,
              "#46039f"
             ],
             [
              0.2222222222222222,
              "#7201a8"
             ],
             [
              0.3333333333333333,
              "#9c179e"
             ],
             [
              0.4444444444444444,
              "#bd3786"
             ],
             [
              0.5555555555555556,
              "#d8576b"
             ],
             [
              0.6666666666666666,
              "#ed7953"
             ],
             [
              0.7777777777777778,
              "#fb9f3a"
             ],
             [
              0.8888888888888888,
              "#fdca26"
             ],
             [
              1,
              "#f0f921"
             ]
            ],
            "type": "histogram2dcontour"
           }
          ],
          "mesh3d": [
           {
            "colorbar": {
             "outlinewidth": 0,
             "ticks": ""
            },
            "type": "mesh3d"
           }
          ],
          "parcoords": [
           {
            "line": {
             "colorbar": {
              "outlinewidth": 0,
              "ticks": ""
             }
            },
            "type": "parcoords"
           }
          ],
          "pie": [
           {
            "automargin": true,
            "type": "pie"
           }
          ],
          "scatter": [
           {
            "fillpattern": {
             "fillmode": "overlay",
             "size": 10,
             "solidity": 0.2
            },
            "type": "scatter"
           }
          ],
          "scatter3d": [
           {
            "line": {
             "colorbar": {
              "outlinewidth": 0,
              "ticks": ""
             }
            },
            "marker": {
             "colorbar": {
              "outlinewidth": 0,
              "ticks": ""
             }
            },
            "type": "scatter3d"
           }
          ],
          "scattercarpet": [
           {
            "marker": {
             "colorbar": {
              "outlinewidth": 0,
              "ticks": ""
             }
            },
            "type": "scattercarpet"
           }
          ],
          "scattergeo": [
           {
            "marker": {
             "colorbar": {
              "outlinewidth": 0,
              "ticks": ""
             }
            },
            "type": "scattergeo"
           }
          ],
          "scattergl": [
           {
            "marker": {
             "colorbar": {
              "outlinewidth": 0,
              "ticks": ""
             }
            },
            "type": "scattergl"
           }
          ],
          "scattermapbox": [
           {
            "marker": {
             "colorbar": {
              "outlinewidth": 0,
              "ticks": ""
             }
            },
            "type": "scattermapbox"
           }
          ],
          "scatterpolar": [
           {
            "marker": {
             "colorbar": {
              "outlinewidth": 0,
              "ticks": ""
             }
            },
            "type": "scatterpolar"
           }
          ],
          "scatterpolargl": [
           {
            "marker": {
             "colorbar": {
              "outlinewidth": 0,
              "ticks": ""
             }
            },
            "type": "scatterpolargl"
           }
          ],
          "scatterternary": [
           {
            "marker": {
             "colorbar": {
              "outlinewidth": 0,
              "ticks": ""
             }
            },
            "type": "scatterternary"
           }
          ],
          "surface": [
           {
            "colorbar": {
             "outlinewidth": 0,
             "ticks": ""
            },
            "colorscale": [
             [
              0,
              "#0d0887"
             ],
             [
              0.1111111111111111,
              "#46039f"
             ],
             [
              0.2222222222222222,
              "#7201a8"
             ],
             [
              0.3333333333333333,
              "#9c179e"
             ],
             [
              0.4444444444444444,
              "#bd3786"
             ],
             [
              0.5555555555555556,
              "#d8576b"
             ],
             [
              0.6666666666666666,
              "#ed7953"
             ],
             [
              0.7777777777777778,
              "#fb9f3a"
             ],
             [
              0.8888888888888888,
              "#fdca26"
             ],
             [
              1,
              "#f0f921"
             ]
            ],
            "type": "surface"
           }
          ],
          "table": [
           {
            "cells": {
             "fill": {
              "color": "#EBF0F8"
             },
             "line": {
              "color": "white"
             }
            },
            "header": {
             "fill": {
              "color": "#C8D4E3"
             },
             "line": {
              "color": "white"
             }
            },
            "type": "table"
           }
          ]
         },
         "layout": {
          "annotationdefaults": {
           "arrowcolor": "#2a3f5f",
           "arrowhead": 0,
           "arrowwidth": 1
          },
          "autotypenumbers": "strict",
          "coloraxis": {
           "colorbar": {
            "outlinewidth": 0,
            "ticks": ""
           }
          },
          "colorscale": {
           "diverging": [
            [
             0,
             "#8e0152"
            ],
            [
             0.1,
             "#c51b7d"
            ],
            [
             0.2,
             "#de77ae"
            ],
            [
             0.3,
             "#f1b6da"
            ],
            [
             0.4,
             "#fde0ef"
            ],
            [
             0.5,
             "#f7f7f7"
            ],
            [
             0.6,
             "#e6f5d0"
            ],
            [
             0.7,
             "#b8e186"
            ],
            [
             0.8,
             "#7fbc41"
            ],
            [
             0.9,
             "#4d9221"
            ],
            [
             1,
             "#276419"
            ]
           ],
           "sequential": [
            [
             0,
             "#0d0887"
            ],
            [
             0.1111111111111111,
             "#46039f"
            ],
            [
             0.2222222222222222,
             "#7201a8"
            ],
            [
             0.3333333333333333,
             "#9c179e"
            ],
            [
             0.4444444444444444,
             "#bd3786"
            ],
            [
             0.5555555555555556,
             "#d8576b"
            ],
            [
             0.6666666666666666,
             "#ed7953"
            ],
            [
             0.7777777777777778,
             "#fb9f3a"
            ],
            [
             0.8888888888888888,
             "#fdca26"
            ],
            [
             1,
             "#f0f921"
            ]
           ],
           "sequentialminus": [
            [
             0,
             "#0d0887"
            ],
            [
             0.1111111111111111,
             "#46039f"
            ],
            [
             0.2222222222222222,
             "#7201a8"
            ],
            [
             0.3333333333333333,
             "#9c179e"
            ],
            [
             0.4444444444444444,
             "#bd3786"
            ],
            [
             0.5555555555555556,
             "#d8576b"
            ],
            [
             0.6666666666666666,
             "#ed7953"
            ],
            [
             0.7777777777777778,
             "#fb9f3a"
            ],
            [
             0.8888888888888888,
             "#fdca26"
            ],
            [
             1,
             "#f0f921"
            ]
           ]
          },
          "colorway": [
           "#636efa",
           "#EF553B",
           "#00cc96",
           "#ab63fa",
           "#FFA15A",
           "#19d3f3",
           "#FF6692",
           "#B6E880",
           "#FF97FF",
           "#FECB52"
          ],
          "font": {
           "color": "#2a3f5f"
          },
          "geo": {
           "bgcolor": "white",
           "lakecolor": "white",
           "landcolor": "#E5ECF6",
           "showlakes": true,
           "showland": true,
           "subunitcolor": "white"
          },
          "hoverlabel": {
           "align": "left"
          },
          "hovermode": "closest",
          "mapbox": {
           "style": "light"
          },
          "paper_bgcolor": "white",
          "plot_bgcolor": "#E5ECF6",
          "polar": {
           "angularaxis": {
            "gridcolor": "white",
            "linecolor": "white",
            "ticks": ""
           },
           "bgcolor": "#E5ECF6",
           "radialaxis": {
            "gridcolor": "white",
            "linecolor": "white",
            "ticks": ""
           }
          },
          "scene": {
           "xaxis": {
            "backgroundcolor": "#E5ECF6",
            "gridcolor": "white",
            "gridwidth": 2,
            "linecolor": "white",
            "showbackground": true,
            "ticks": "",
            "zerolinecolor": "white"
           },
           "yaxis": {
            "backgroundcolor": "#E5ECF6",
            "gridcolor": "white",
            "gridwidth": 2,
            "linecolor": "white",
            "showbackground": true,
            "ticks": "",
            "zerolinecolor": "white"
           },
           "zaxis": {
            "backgroundcolor": "#E5ECF6",
            "gridcolor": "white",
            "gridwidth": 2,
            "linecolor": "white",
            "showbackground": true,
            "ticks": "",
            "zerolinecolor": "white"
           }
          },
          "shapedefaults": {
           "line": {
            "color": "#2a3f5f"
           }
          },
          "ternary": {
           "aaxis": {
            "gridcolor": "white",
            "linecolor": "white",
            "ticks": ""
           },
           "baxis": {
            "gridcolor": "white",
            "linecolor": "white",
            "ticks": ""
           },
           "bgcolor": "#E5ECF6",
           "caxis": {
            "gridcolor": "white",
            "linecolor": "white",
            "ticks": ""
           }
          },
          "title": {
           "x": 0.05
          },
          "xaxis": {
           "automargin": true,
           "gridcolor": "white",
           "linecolor": "white",
           "ticks": "",
           "title": {
            "standoff": 15
           },
           "zerolinecolor": "white",
           "zerolinewidth": 2
          },
          "yaxis": {
           "automargin": true,
           "gridcolor": "white",
           "linecolor": "white",
           "ticks": "",
           "title": {
            "standoff": 15
           },
           "zerolinecolor": "white",
           "zerolinewidth": 2
          }
         }
        },
        "title": {
         "text": "Transaction Amounts Over Time"
        },
        "width": 900,
        "xaxis": {
         "anchor": "y",
         "domain": [
          0,
          1
         ],
         "title": {
          "text": "Transaction Time"
         }
        },
        "yaxis": {
         "anchor": "x",
         "domain": [
          0,
          1
         ],
         "title": {
          "text": "Amount"
         }
        }
       }
      }
     },
     "metadata": {},
     "output_type": "display_data"
    }
   ],
   "source": [
    "grouped = data.groupby(by=[pd.Grouper(key=\"trans_time\", freq=\"1M\"), 'category'])\n",
    "grouped = grouped.aggregate({\"amt\":'sum',\"trans_id\":\"count\"}).reset_index()\n",
    "\n",
    "fig = px.area(grouped, x='trans_time', y='amt', \n",
    "              color='category', title=\"Transaction Amounts Over Time\",\n",
    "              labels={'trans_time': 'Transaction Time', 'amt': 'Amount'})\n",
    "\n",
    "fig.update_layout(height=600, width=900, legend=dict(title='Categories'))\n",
    "\n",
    "fig.show()"
   ]
  },
  {
   "cell_type": "markdown",
   "metadata": {},
   "source": [
    "Visualizing transactions by category."
   ]
  },
  {
   "cell_type": "code",
   "execution_count": 23,
   "metadata": {},
   "outputs": [
    {
     "data": {
      "image/png": "[encoded data removed]",
      "text/plain": [
       "<Figure size 1500x1200 with 1 Axes>"
      ]
     },
     "metadata": {},
     "output_type": "display_data"
    },
    {
     "data": {
      "text/plain": [
       "<Figure size 1500x1200 with 0 Axes>"
      ]
     },
     "metadata": {},
     "output_type": "display_data"
    },
    {
     "data": {
      "image/png": "[encoded data removed]",
      "text/plain": [
       "<Figure size 640x480 with 1 Axes>"
      ]
     },
     "metadata": {},
     "output_type": "display_data"
    }
   ],
   "source": [
    "grouped = data.groupby(\"trans_id\")[\"category\"].aggregate(\"max\").reset_index()\n",
    "grouped = grouped.category.value_counts()\n",
    "\n",
    "# Plotting\n",
    "sns.set_style('dark')\n",
    "colors = sns.color_palette(\"viridis\", n_colors=len(grouped))\n",
    "f, ax = plt.subplots(figsize=(15, 12))\n",
    "\n",
    "sns.barplot(x=grouped.index, y=grouped.values, hue=grouped.index, ax=ax, palette=colors, legend=False)\n",
    "ax.grid(True, axis='y')\n",
    "\n",
    "plt.xticks(rotation=45)\n",
    "plt.ylabel('Number of unique transactions')\n",
    "plt.xlabel('Categories')\n",
    "plt.title('Number of Transactions Based on Category')\n",
    "plt.show()\n",
    "\n",
    "# Split into fraud or not\n",
    "grouped = data[[\"trans_id\", \"category\", \"is_fraud\"]].groupby(['category', 'is_fraud']).size().unstack()\n",
    "\n",
    "# Plotting\n",
    "sns.set(style=\"whitegrid\")\n",
    "plt.figure(figsize=(15, 12))\n",
    "ax = grouped.plot(kind='bar', stacked=False, color=['green', 'red'])\n",
    "\n",
    "# Adding the numbers to bars\n",
    "for p in ax.patches:\n",
    "    ax.annotate(str(p.get_height()), (p.get_x() + p.get_width() / 2., p.get_height()),\n",
    "                ha='center', va='center', xytext=(0, 5), textcoords='offset points', fontsize=5)\n",
    "\n",
    "plt.xticks(rotation=45)\n",
    "plt.xlabel('Category')\n",
    "plt.ylabel('Number of Transactions')\n",
    "plt.title('Number of Transactions by Category and Fraud Status')\n",
    "plt.legend(['Genuine', 'Fraud'])\n",
    "plt.show()"
   ]
  },
  {
   "cell_type": "markdown",
   "metadata": {},
   "source": [
    "Visualizing transactions based on time of day."
   ]
  },
  {
   "cell_type": "code",
   "execution_count": 9,
   "metadata": {},
   "outputs": [
    {
     "data": {
      "image/png": "[encoded data removed]",
      "text/plain": [
       "<Figure size 1500x1200 with 1 Axes>"
      ]
     },
     "metadata": {},
     "output_type": "display_data"
    },
    {
     "data": {
      "text/plain": [
       "<Figure size 1500x1200 with 0 Axes>"
      ]
     },
     "metadata": {},
     "output_type": "display_data"
    },
    {
     "data": {
      "image/png": "[encoded data removed]",
      "text/plain": [
       "<Figure size 640x480 with 1 Axes>"
      ]
     },
     "metadata": {},
     "output_type": "display_data"
    }
   ],
   "source": [
    "grouped = data.groupby(\"trans_id\")[\"time\"].aggregate(\"max\").reset_index()\n",
    "grouped = grouped.time.value_counts()\n",
    "\n",
    "# Plotting\n",
    "sns.set_style('dark')\n",
    "colors = sns.color_palette(\"inferno_r\", n_colors=len(grouped))\n",
    "f, ax = plt.subplots(figsize=(15, 12))\n",
    "\n",
    "sns.barplot(x=grouped.index, y=grouped.values, hue=grouped.index, ax=ax, palette=colors, legend=False)\n",
    "ax.grid(True, axis='y')\n",
    "\n",
    "plt.ylabel('Number of unique transactions')\n",
    "plt.xlabel('Time of Day')\n",
    "plt.title('Number of Transactions Based on Time of Day')\n",
    "plt.show()\n",
    "\n",
    "# Split into fraud or not\n",
    "grouped = data[[\"trans_id\", \"time\", \"is_fraud\"]].groupby(['time', 'is_fraud']).size().unstack()\n",
    "\n",
    "# Plotting\n",
    "sns.set(style=\"whitegrid\")\n",
    "plt.figure(figsize=(15, 12))\n",
    "ax = grouped.plot(kind='bar', stacked=False, color=['green', 'red'])\n",
    "\n",
    "# Adding the numbers to bars\n",
    "for p in ax.patches:\n",
    "    ax.annotate(str(p.get_height()), (p.get_x() + p.get_width() / 2., p.get_height()),\n",
    "                ha='center', va='center', xytext=(0, 5), textcoords='offset points', fontsize=5)\n",
    "\n",
    "plt.xlabel('Time of Day')\n",
    "plt.ylabel('Number of Transactions')\n",
    "plt.title('Number of Transactions by Time of Day and Fraud Status')\n",
    "plt.legend(['Genuine', 'Fraud'])\n",
    "plt.show()"
   ]
  },
  {
   "cell_type": "markdown",
   "metadata": {},
   "source": [
    "## Preprocessing Data\n",
    "We convert the date of birth to age and normalize the amount."
   ]
  },
  {
   "cell_type": "code",
   "execution_count": 10,
   "metadata": {},
   "outputs": [],
   "source": [
    "# Normalizing the amount via log(1 + amt)\n",
    "data[\"amt\"] = np.log1p(data[\"amt\"])\n",
    "\n",
    "# Change dob to age to prevent data leakage, and removal of private information\n",
    "data[\"age\"] = data[\"trans_time\"].dt.year - data[\"dob\"].dt.year"
   ]
  },
  {
   "cell_type": "markdown",
   "metadata": {},
   "source": [
    "\n",
    "Removing any unecessary features and taking the 4 most recent months as testing data to prevent data leakage."
   ]
  },
  {
   "cell_type": "code",
   "execution_count": 11,
   "metadata": {},
   "outputs": [],
   "source": [
    "# Removed trans_id. Replaced unix_time and trans_date_trans_time with time. Replaced dob with age.\n",
    "# Also removed private information such as name, dob, address.\n",
    "features = ['credit_card', 'merchant', 'category', 'amt', 'gender', 'state', 'zip', 'lat', 'long', 'city_pop', 'job', 'age', 'merch_lat', 'merch_long', 'time']\n",
    "categorical_features = ['credit_card', 'merchant', 'category', 'gender', 'state', 'zip', 'job', 'age']\n",
    "target = \"is_fraud\"\n",
    "\n",
    "# Separates all the data within the most recent MONTH_DIFF months to prevent data leakage\n",
    "MONTH_DIFF = 4 # Sets the month difference to split by\n",
    "most_recent_transaction = data[\"trans_time\"].max()\n",
    "data[\"month_difference\"] = abs(data[\"trans_time\"] - most_recent_transaction) / np.timedelta64(30, \"D\")\n",
    "\n",
    "data_train = data[data.month_difference > MONTH_DIFF]\n",
    "data_test = data[data.month_difference <= MONTH_DIFF]"
   ]
  },
  {
   "cell_type": "markdown",
   "metadata": {},
   "source": [
    "Splitting our data into training and testing and encoding the data"
   ]
  },
  {
   "cell_type": "code",
   "execution_count": 12,
   "metadata": {},
   "outputs": [],
   "source": [
    "X = data_train[features]\n",
    "Y = data_train[target]\n",
    "\n",
    "# Split the data into training and testing. Stratify the data to ensure the split is representative of the actual data.\n",
    "X_train_all, X_temp_all, Y_train_all, Y_temp_all = train_test_split(X, Y, stratify=Y, train_size=0.8, random_state=RANDOM_STATE)\n",
    "\n",
    "X_temp_all = pd.concat([X_temp_all, data_test[features]])\n",
    "Y_temp_all = pd.concat([Y_temp_all, data_test[target]])\n",
    "\n",
    "# Using ordinal encodings to encode categorical features for data.\n",
    "ord_enc = OrdinalEncoder(handle_unknown=\"use_encoded_value\", unknown_value=-1, dtype=np.float64)\n",
    "\n",
    "X_train_all.loc[:, categorical_features] = ord_enc.fit_transform(X_train_all[categorical_features])\n",
    "X_temp_all.loc[:, categorical_features] = ord_enc.transform(X_temp_all[categorical_features])\n",
    "\n",
    "X_train_all = X_train_all.astype(\"float64\")\n",
    "X_temp_all = X_temp_all.astype(\"float64\")\n",
    "\n",
    "X_val_all, X_test_all, Y_val_all, Y_test_all = train_test_split(X_temp_all, Y_temp_all, stratify=Y_temp_all, train_size=0.5, random_state=RANDOM_STATE)"
   ]
  },
  {
   "cell_type": "markdown",
   "metadata": {},
   "source": [
    "## Feature Importance"
   ]
  },
  {
   "cell_type": "markdown",
   "metadata": {},
   "source": [
    "To determine which features to select, fit a model to the data."
   ]
  },
  {
   "cell_type": "code",
   "execution_count": 8,
   "metadata": {},
   "outputs": [
    {
     "data": {
      "text/html": [
       "<style>#sk-container-id-1 {color: black;}#sk-container-id-1 pre{padding: 0;}#sk-container-id-1 div.sk-toggleable {background-color: white;}#sk-container-id-1 label.sk-toggleable__label {cursor: pointer;display: block;width: 100%;margin-bottom: 0;padding: 0.3em;box-sizing: border-box;text-align: center;}#sk-container-id-1 label.sk-toggleable__label-arrow:before {content: \"▸\";float: left;margin-right: 0.25em;color: #696969;}#sk-container-id-1 label.sk-toggleable__label-arrow:hover:before {color: black;}#sk-container-id-1 div.sk-estimator:hover label.sk-toggleable__label-arrow:before {color: black;}#sk-container-id-1 div.sk-toggleable__content {max-height: 0;max-width: 0;overflow: hidden;text-align: left;background-color: #f0f8ff;}#sk-container-id-1 div.sk-toggleable__content pre {margin: 0.2em;color: black;border-radius: 0.25em;background-color: #f0f8ff;}#sk-container-id-1 input.sk-toggleable__control:checked~div.sk-toggleable__content {max-height: 200px;max-width: 100%;overflow: auto;}#sk-container-id-1 input.sk-toggleable__control:checked~label.sk-toggleable__label-arrow:before {content: \"▾\";}#sk-container-id-1 div.sk-estimator input.sk-toggleable__control:checked~label.sk-toggleable__label {background-color: #d4ebff;}#sk-container-id-1 div.sk-label input.sk-toggleable__control:checked~label.sk-toggleable__label {background-color: #d4ebff;}#sk-container-id-1 input.sk-hidden--visually {border: 0;clip: rect(1px 1px 1px 1px);clip: rect(1px, 1px, 1px, 1px);height: 1px;margin: -1px;overflow: hidden;padding: 0;position: absolute;width: 1px;}#sk-container-id-1 div.sk-estimator {font-family: monospace;background-color: #f0f8ff;border: 1px dotted black;border-radius: 0.25em;box-sizing: border-box;margin-bottom: 0.5em;}#sk-container-id-1 div.sk-estimator:hover {background-color: #d4ebff;}#sk-container-id-1 div.sk-parallel-item::after {content: \"\";width: 100%;border-bottom: 1px solid gray;flex-grow: 1;}#sk-container-id-1 div.sk-label:hover label.sk-toggleable__label {background-color: #d4ebff;}#sk-container-id-1 div.sk-serial::before {content: \"\";position: absolute;border-left: 1px solid gray;box-sizing: border-box;top: 0;bottom: 0;left: 50%;z-index: 0;}#sk-container-id-1 div.sk-serial {display: flex;flex-direction: column;align-items: center;background-color: white;padding-right: 0.2em;padding-left: 0.2em;position: relative;}#sk-container-id-1 div.sk-item {position: relative;z-index: 1;}#sk-container-id-1 div.sk-parallel {display: flex;align-items: stretch;justify-content: center;background-color: white;position: relative;}#sk-container-id-1 div.sk-item::before, #sk-container-id-1 div.sk-parallel-item::before {content: \"\";position: absolute;border-left: 1px solid gray;box-sizing: border-box;top: 0;bottom: 0;left: 50%;z-index: -1;}#sk-container-id-1 div.sk-parallel-item {display: flex;flex-direction: column;z-index: 1;position: relative;background-color: white;}#sk-container-id-1 div.sk-parallel-item:first-child::after {align-self: flex-end;width: 50%;}#sk-container-id-1 div.sk-parallel-item:last-child::after {align-self: flex-start;width: 50%;}#sk-container-id-1 div.sk-parallel-item:only-child::after {width: 0;}#sk-container-id-1 div.sk-dashed-wrapped {border: 1px dashed gray;margin: 0 0.4em 0.5em 0.4em;box-sizing: border-box;padding-bottom: 0.4em;background-color: white;}#sk-container-id-1 div.sk-label label {font-family: monospace;font-weight: bold;display: inline-block;line-height: 1.2em;}#sk-container-id-1 div.sk-label-container {text-align: center;}#sk-container-id-1 div.sk-container {/* jupyter's `normalize.less` sets `[hidden] { display: none; }` but bootstrap.min.css set `[hidden] { display: none !important; }` so we also need the `!important` here to be able to override the default hidden behavior on the sphinx rendered scikit-learn.org. See: https://github.com/scikit-learn/scikit-learn/issues/21755 */display: inline-block !important;position: relative;}#sk-container-id-1 div.sk-text-repr-fallback {display: none;}</style><div id=\"sk-container-id-1\" class=\"sk-top-container\"><div class=\"sk-text-repr-fallback\"><pre>RandomForestClassifier(random_state=1)</pre><b>In a Jupyter environment, please rerun this cell to show the HTML representation or trust the notebook. <br />On GitHub, the HTML representation is unable to render, please try loading this page with nbviewer.org.</b></div><div class=\"sk-container\" hidden><div class=\"sk-item\"><div class=\"sk-estimator sk-toggleable\"><input class=\"sk-toggleable__control sk-hidden--visually\" id=\"sk-estimator-id-1\" type=\"checkbox\" checked><label for=\"sk-estimator-id-1\" class=\"sk-toggleable__label sk-toggleable__label-arrow\">RandomForestClassifier</label><div class=\"sk-toggleable__content\"><pre>RandomForestClassifier(random_state=1)</pre></div></div></div></div></div>"
      ],
      "text/plain": [
       "RandomForestClassifier(random_state=1)"
      ]
     },
     "execution_count": 8,
     "metadata": {},
     "output_type": "execute_result"
    }
   ],
   "source": [
    "model_rf = RandomForestClassifier(random_state=RANDOM_STATE)\n",
    "model_rf.fit(X_train_all, Y_train_all)"
   ]
  },
  {
   "cell_type": "markdown",
   "metadata": {},
   "source": [
    "Using the mean decrease in impurity (MDI), plot the feature importance to determine the most important features."
   ]
  },
  {
   "cell_type": "code",
   "execution_count": 9,
   "metadata": {},
   "outputs": [
    {
     "data": {
      "image/png": "[encoded data removed]",
      "text/plain": [
       "<Figure size 640x480 with 1 Axes>"
      ]
     },
     "metadata": {},
     "output_type": "display_data"
    }
   ],
   "source": [
    "mdi_importances = model_rf.feature_importances_\n",
    "mdi_std = np.std([tree.feature_importances_ for tree in model_rf.estimators_], axis=0)\n",
    "\n",
    "mdi_importances = pd.Series(mdi_importances, index=features)\n",
    "\n",
    "mdi_fig, mdi_ax = plt.subplots()\n",
    "mdi_importances.plot.bar(yerr=mdi_std, ax=mdi_ax)\n",
    "mdi_ax.set_title(\"Feature importances using MDI\")\n",
    "mdi_ax.set_ylabel(\"Mean decrease in impurity\")\n",
    "mdi_fig.tight_layout()"
   ]
  },
  {
   "cell_type": "markdown",
   "metadata": {},
   "source": [
    "Using feature permutation, plot the feature importance to determine the most important features."
   ]
  },
  {
   "cell_type": "code",
   "execution_count": 10,
   "metadata": {},
   "outputs": [
    {
     "data": {
      "image/png": "[encoded data removed]",
      "text/plain": [
       "<Figure size 640x480 with 1 Axes>"
      ]
     },
     "metadata": {},
     "output_type": "display_data"
    }
   ],
   "source": [
    "perm_res = permutation_importance(\n",
    "    model_rf, X_val_all, Y_val_all, n_repeats=10, random_state=RANDOM_STATE, n_jobs=4\n",
    ")\n",
    "\n",
    "perm_importances = pd.Series(perm_res.importances_mean, index=features)\n",
    "\n",
    "perm_fig, perm_ax = plt.subplots()\n",
    "perm_importances.plot.bar(yerr=perm_res.importances_std, ax=perm_ax)\n",
    "perm_ax.set_title(\"Feature importances using permutation on full model\")\n",
    "perm_ax.set_ylabel(\"Mean accuracy decrease\")\n",
    "perm_fig.tight_layout()\n",
    "plt.show()"
   ]
  },
  {
   "cell_type": "markdown",
   "metadata": {},
   "source": [
    "The features `[\"merchant\", \"category\", \"amt\", \"gender\", \"city_pop\", \"job\", \"age\", \"merch_lat\", \"merch_long\", \"time\"]` were found to be the most important."
   ]
  },
  {
   "cell_type": "code",
   "execution_count": 13,
   "metadata": {},
   "outputs": [],
   "source": [
    "selected_features = [\"merchant\", \"category\", \"amt\", \"gender\", \"city_pop\", \"age\", \"job\", \"merch_lat\", \"merch_long\", \"time\"]\n",
    "\n",
    "X_train, X_val, X_test = X_train_all[selected_features], X_val_all[selected_features], X_test_all[selected_features]\n",
    "Y_train, Y_val, Y_test = Y_train_all, Y_val_all, Y_test_all"
   ]
  },
  {
   "cell_type": "markdown",
   "metadata": {},
   "source": [
    "## Baseline Performance\n",
    "First, we take a look at a baseline performance using Logistic Regression"
   ]
  },
  {
   "cell_type": "code",
   "execution_count": 12,
   "metadata": {},
   "outputs": [],
   "source": [
    "scalar = StandardScaler()\n",
    "X_train_scaled = scalar.fit_transform(X_train)\n",
    "X_val_scaled = scalar.transform(X_val)\n",
    "\n",
    "model_logreg = LogisticRegression(random_state=RANDOM_STATE, max_iter=1000)\n",
    "model_logreg.fit(X_train_scaled, Y_train)\n",
    "\n",
    "Y_pred_model_logreg = model_logreg.predict(X_val_scaled)"
   ]
  },
  {
   "cell_type": "code",
   "execution_count": 13,
   "metadata": {},
   "outputs": [
    {
     "name": "stdout",
     "output_type": "stream",
     "text": [
      "Classification Report: \n",
      "              precision    recall  f1-score   support\n",
      "\n",
      "           0       0.99      1.00      1.00    241438\n",
      "           1       0.00      0.00      0.00      1428\n",
      "\n",
      "    accuracy                           0.99    242866\n",
      "   macro avg       0.50      0.50      0.50    242866\n",
      "weighted avg       0.99      0.99      0.99    242866\n",
      "\n",
      "\n",
      "\n",
      "Metrics train:\n",
      "\tAccuracy score: 0.9940\n",
      "Metrics test:\n",
      "\tAccuracy score: 0.9938\n",
      "\n",
      "\n",
      "Confusion Matrix:\n"
     ]
    },
    {
     "data": {
      "text/plain": [
       "<sklearn.metrics._plot.confusion_matrix.ConfusionMatrixDisplay at 0x2ecaa5c10>"
      ]
     },
     "execution_count": 13,
     "metadata": {},
     "output_type": "execute_result"
    },
    {
     "data": {
      "image/png": "[encoded data removed]",
      "text/plain": [
       "<Figure size 640x480 with 2 Axes>"
      ]
     },
     "metadata": {},
     "output_type": "display_data"
    }
   ],
   "source": [
    "print(f\"Classification Report: \\n{classification_report(Y_val, Y_pred_model_logreg)}\\n\\n\")\n",
    "\n",
    "print(\n",
    "    f\"Metrics train:\\n\\tAccuracy score: {accuracy_score(model_logreg.predict(X_train_scaled),Y_train):.4f}\\nMetrics test:\\n\\tAccuracy score: {accuracy_score(model_logreg.predict(X_val_scaled),Y_val):.4f}\\n\\n\")\n",
    "\n",
    "print(\"Confusion Matrix:\")\n",
    "cm_display_model = ConfusionMatrixDisplay(confusion_matrix(Y_val, Y_pred_model_logreg), display_labels=[\"Genuine\", \"Fraud\"])\n",
    "cm_display_model.plot()"
   ]
  },
  {
   "cell_type": "markdown",
   "metadata": {},
   "source": [
    "Then, we take a look at the baseline performance of Random Forest"
   ]
  },
  {
   "cell_type": "code",
   "execution_count": 14,
   "metadata": {},
   "outputs": [],
   "source": [
    "model_rf.fit(X_train, Y_train)\n",
    "\n",
    "Y_pred_model_rf = model_rf.predict(X_val)"
   ]
  },
  {
   "cell_type": "code",
   "execution_count": 15,
   "metadata": {},
   "outputs": [
    {
     "name": "stdout",
     "output_type": "stream",
     "text": [
      "Classification Report: \n",
      "              precision    recall  f1-score   support\n",
      "\n",
      "           0       1.00      1.00      1.00    241438\n",
      "           1       0.97      0.77      0.86      1428\n",
      "\n",
      "    accuracy                           1.00    242866\n",
      "   macro avg       0.98      0.89      0.93    242866\n",
      "weighted avg       1.00      1.00      1.00    242866\n",
      "\n",
      "\n",
      "\n",
      "Metrics train:\n",
      "\tAccuracy score: 1.0000\n",
      "Metrics test:\n",
      "\tAccuracy score: 0.9985\n",
      "\n",
      "\n",
      "Confusion Matrix:\n"
     ]
    },
    {
     "data": {
      "text/plain": [
       "<sklearn.metrics._plot.confusion_matrix.ConfusionMatrixDisplay at 0x2b395e390>"
      ]
     },
     "execution_count": 15,
     "metadata": {},
     "output_type": "execute_result"
    },
    {
     "data": {
      "image/png": "[encoded data removed]",
      "text/plain": [
       "<Figure size 640x480 with 2 Axes>"
      ]
     },
     "metadata": {},
     "output_type": "display_data"
    }
   ],
   "source": [
    "print(f\"Classification Report: \\n{classification_report(Y_val, Y_pred_model_rf)}\\n\\n\")\n",
    "\n",
    "print(\n",
    "    f\"Metrics train:\\n\\tAccuracy score: {accuracy_score(model_rf.predict(X_train),Y_train):.4f}\\nMetrics test:\\n\\tAccuracy score: {accuracy_score(model_rf.predict(X_val),Y_val):.4f}\\n\\n\")\n",
    "\n",
    "print(\"Confusion Matrix:\")\n",
    "cm_display_model = ConfusionMatrixDisplay(confusion_matrix(Y_val, Y_pred_model_rf), display_labels=[\"Genuine\", \"Fraud\"])\n",
    "cm_display_model.plot()"
   ]
  },
  {
   "cell_type": "markdown",
   "metadata": {},
   "source": [
    "## SMOTE + Tomek Links\n",
    "Because the data is imbalanced, we combine SMOTE and Tomek Links to resample the data."
   ]
  },
  {
   "cell_type": "code",
   "execution_count": 14,
   "metadata": {},
   "outputs": [
    {
     "data": {
      "image/png": "[encoded data removed]",
      "text/plain": [
       "<Figure size 640x480 with 1 Axes>"
      ]
     },
     "metadata": {},
     "output_type": "display_data"
    }
   ],
   "source": [
    "tomek = TomekLinks(sampling_strategy=\"majority\")\n",
    "smotetomek = SMOTETomek(tomek=tomek, random_state=RANDOM_STATE)\n",
    "\n",
    "X_train_smotetomek, Y_train_smotetomek = smotetomek.fit_resample(X_train, Y_train)\n",
    "\n",
    "# Plot the data after resampling\n",
    "is_fraud_train_smotetomek = Y_train_smotetomek.value_counts()\n",
    "\n",
    "plt.pie(is_fraud_train_smotetomek,labels=labels, colors=[\"lightgreen\", \"lightcoral\"], autopct='%1.1f%%')\n",
    "plt.title(\"Genuine vs. Fraud Transactions After SMOTE + Tomek\")\n",
    "plt.show()"
   ]
  },
  {
   "cell_type": "markdown",
   "metadata": {},
   "source": [
    "Running the line of code below will cause the rest of the notebook to use the SMOTE + Tomek data."
   ]
  },
  {
   "cell_type": "code",
   "execution_count": 15,
   "metadata": {},
   "outputs": [],
   "source": [
    "X_train, Y_train = X_train_smotetomek, Y_train_smotetomek"
   ]
  },
  {
   "cell_type": "markdown",
   "metadata": {},
   "source": [
    "## Model: Decision Tree\n",
    "Finding and tuning hyperparameters of the Decision Tree using RandomizedSearch."
   ]
  },
  {
   "cell_type": "code",
   "execution_count": 18,
   "metadata": {},
   "outputs": [
    {
     "name": "stderr",
     "output_type": "stream",
     "text": [
      "/Library/Frameworks/Python.framework/Versions/3.11/lib/python3.11/site-packages/sklearn/model_selection/_search.py:307: UserWarning: The total space of parameters 16 is smaller than n_iter=20. Running 16 iterations. For exhaustive searches, use GridSearchCV.\n",
      "  warnings.warn(\n"
     ]
    },
    {
     "name": "stdout",
     "output_type": "stream",
     "text": [
      "Fitting 5 folds for each of 16 candidates, totalling 80 fits\n",
      "[CV 1/5] END ..max_depth=3, min_samples_split=2;, score=0.825 total time=   3.5s\n",
      "[CV 3/5] END ..max_depth=3, min_samples_split=2;, score=0.823 total time=   3.6s\n",
      "[CV 4/5] END ..max_depth=3, min_samples_split=2;, score=0.824 total time=   3.6s\n",
      "[CV 2/5] END ..max_depth=3, min_samples_split=2;, score=0.823 total time=   3.8s\n",
      "[CV 5/5] END ..max_depth=3, min_samples_split=2;, score=0.824 total time=   3.4s\n",
      "[CV 1/5] END ..max_depth=3, min_samples_split=5;, score=0.825 total time=   3.4s\n",
      "[CV 2/5] END ..max_depth=3, min_samples_split=5;, score=0.823 total time=   3.5s\n",
      "[CV 3/5] END ..max_depth=3, min_samples_split=5;, score=0.823 total time=   3.5s\n",
      "[CV 4/5] END ..max_depth=3, min_samples_split=5;, score=0.824 total time=   3.4s\n",
      "[CV 5/5] END ..max_depth=3, min_samples_split=5;, score=0.824 total time=   3.4s\n",
      "[CV 1/5] END .max_depth=3, min_samples_split=10;, score=0.825 total time=   3.4s\n",
      "[CV 2/5] END .max_depth=3, min_samples_split=10;, score=0.823 total time=   3.4s\n",
      "[CV 4/5] END .max_depth=3, min_samples_split=10;, score=0.824 total time=   3.7s\n",
      "[CV 5/5] END .max_depth=3, min_samples_split=10;, score=0.824 total time=   3.7s\n",
      "[CV 3/5] END .max_depth=3, min_samples_split=10;, score=0.823 total time=   4.0s\n",
      "[CV 1/5] END .max_depth=3, min_samples_split=50;, score=0.825 total time=   3.8s\n",
      "[CV 2/5] END .max_depth=3, min_samples_split=50;, score=0.823 total time=   3.7s\n",
      "[CV 3/5] END .max_depth=3, min_samples_split=50;, score=0.823 total time=   3.6s\n",
      "[CV 5/5] END .max_depth=3, min_samples_split=50;, score=0.824 total time=   3.6s\n",
      "[CV 4/5] END .max_depth=3, min_samples_split=50;, score=0.824 total time=   3.7s\n",
      "[CV 1/5] END ..max_depth=5, min_samples_split=2;, score=0.867 total time=   5.7s\n",
      "[CV 2/5] END ..max_depth=5, min_samples_split=2;, score=0.865 total time=   5.6s\n",
      "[CV 3/5] END ..max_depth=5, min_samples_split=2;, score=0.865 total time=   5.6s\n",
      "[CV 4/5] END ..max_depth=5, min_samples_split=2;, score=0.865 total time=   5.6s\n",
      "[CV 5/5] END ..max_depth=5, min_samples_split=2;, score=0.866 total time=   5.5s\n",
      "[CV 1/5] END ..max_depth=5, min_samples_split=5;, score=0.867 total time=   5.6s\n",
      "[CV 2/5] END ..max_depth=5, min_samples_split=5;, score=0.865 total time=   5.6s\n",
      "[CV 3/5] END ..max_depth=5, min_samples_split=5;, score=0.865 total time=   6.0s\n",
      "[CV 4/5] END ..max_depth=5, min_samples_split=5;, score=0.865 total time=   5.7s\n",
      "[CV 5/5] END ..max_depth=5, min_samples_split=5;, score=0.866 total time=   5.7s\n",
      "[CV 1/5] END .max_depth=5, min_samples_split=10;, score=0.867 total time=   5.8s\n",
      "[CV 2/5] END .max_depth=5, min_samples_split=10;, score=0.865 total time=   6.2s\n",
      "[CV 3/5] END .max_depth=5, min_samples_split=10;, score=0.865 total time=   5.6s\n",
      "[CV 4/5] END .max_depth=5, min_samples_split=10;, score=0.865 total time=   5.7s\n",
      "[CV 5/5] END .max_depth=5, min_samples_split=10;, score=0.866 total time=   5.7s\n",
      "[CV 1/5] END .max_depth=5, min_samples_split=50;, score=0.867 total time=   5.8s\n",
      "[CV 2/5] END .max_depth=5, min_samples_split=50;, score=0.865 total time=   5.8s\n",
      "[CV 3/5] END .max_depth=5, min_samples_split=50;, score=0.865 total time=   5.9s\n",
      "[CV 4/5] END .max_depth=5, min_samples_split=50;, score=0.865 total time=   6.0s\n",
      "[CV 5/5] END .max_depth=5, min_samples_split=50;, score=0.866 total time=   6.2s\n",
      "[CV 1/5] END ..max_depth=7, min_samples_split=2;, score=0.915 total time=   7.6s\n",
      "[CV 2/5] END ..max_depth=7, min_samples_split=2;, score=0.915 total time=   7.6s\n",
      "[CV 3/5] END ..max_depth=7, min_samples_split=2;, score=0.915 total time=   7.5s\n",
      "[CV 4/5] END ..max_depth=7, min_samples_split=2;, score=0.915 total time=   7.4s\n",
      "[CV 5/5] END ..max_depth=7, min_samples_split=2;, score=0.915 total time=   7.5s\n",
      "[CV 1/5] END ..max_depth=7, min_samples_split=5;, score=0.915 total time=   7.5s\n",
      "[CV 2/5] END ..max_depth=7, min_samples_split=5;, score=0.915 total time=   7.5s\n",
      "[CV 3/5] END ..max_depth=7, min_samples_split=5;, score=0.915 total time=   7.6s\n",
      "[CV 4/5] END ..max_depth=7, min_samples_split=5;, score=0.915 total time=   7.5s\n",
      "[CV 5/5] END ..max_depth=7, min_samples_split=5;, score=0.915 total time=   7.8s\n",
      "[CV 1/5] END .max_depth=7, min_samples_split=10;, score=0.915 total time=   7.6s\n",
      "[CV 2/5] END .max_depth=7, min_samples_split=10;, score=0.915 total time=   7.8s\n",
      "[CV 3/5] END .max_depth=7, min_samples_split=10;, score=0.915 total time=   7.7s\n",
      "[CV 4/5] END .max_depth=7, min_samples_split=10;, score=0.915 total time=   7.5s\n",
      "[CV 5/5] END .max_depth=7, min_samples_split=10;, score=0.915 total time=   7.5s\n",
      "[CV 1/5] END .max_depth=7, min_samples_split=50;, score=0.915 total time=   9.8s\n",
      "[CV 2/5] END .max_depth=7, min_samples_split=50;, score=0.915 total time=   9.3s\n",
      "[CV 3/5] END .max_depth=7, min_samples_split=50;, score=0.915 total time=   9.4s\n",
      "[CV 4/5] END .max_depth=7, min_samples_split=50;, score=0.915 total time=   9.7s\n",
      "[CV 5/5] END .max_depth=7, min_samples_split=50;, score=0.915 total time=   7.6s\n",
      "[CV 1/5] END .max_depth=10, min_samples_split=2;, score=0.943 total time=   9.7s\n",
      "[CV 2/5] END .max_depth=10, min_samples_split=2;, score=0.944 total time=  10.0s\n",
      "[CV 3/5] END .max_depth=10, min_samples_split=2;, score=0.945 total time=   9.9s\n",
      "[CV 4/5] END .max_depth=10, min_samples_split=2;, score=0.945 total time=   9.9s\n",
      "[CV 5/5] END .max_depth=10, min_samples_split=2;, score=0.944 total time=  10.0s\n",
      "[CV 2/5] END .max_depth=10, min_samples_split=5;, score=0.944 total time=   9.8s\n",
      "[CV 1/5] END .max_depth=10, min_samples_split=5;, score=0.943 total time=  10.0s\n",
      "[CV 3/5] END .max_depth=10, min_samples_split=5;, score=0.945 total time=  10.7s\n",
      "[CV 4/5] END .max_depth=10, min_samples_split=5;, score=0.945 total time=   9.9s\n",
      "[CV 5/5] END .max_depth=10, min_samples_split=5;, score=0.944 total time=   9.9s\n",
      "[CV 1/5] END max_depth=10, min_samples_split=10;, score=0.943 total time=  10.0s\n",
      "[CV 2/5] END max_depth=10, min_samples_split=10;, score=0.944 total time=   9.9s\n",
      "[CV 3/5] END max_depth=10, min_samples_split=10;, score=0.945 total time=  10.1s\n",
      "[CV 4/5] END max_depth=10, min_samples_split=10;, score=0.945 total time=  10.3s\n",
      "[CV 5/5] END max_depth=10, min_samples_split=10;, score=0.944 total time=  10.2s\n",
      "[CV 1/5] END max_depth=10, min_samples_split=50;, score=0.943 total time=  10.5s\n",
      "[CV 2/5] END max_depth=10, min_samples_split=50;, score=0.944 total time=   9.5s\n",
      "[CV 3/5] END max_depth=10, min_samples_split=50;, score=0.945 total time=  10.0s\n",
      "[CV 4/5] END max_depth=10, min_samples_split=50;, score=0.945 total time=  10.0s\n",
      "[CV 5/5] END max_depth=10, min_samples_split=50;, score=0.944 total time=   9.4s\n",
      "Decision Tree Params: {'min_samples_split': 5, 'max_depth': 10}\n"
     ]
    }
   ],
   "source": [
    "max_depths = [3, 5, 7, 10]  # Determines how far down a decision tree goes before stopping\n",
    "min_splits = [2, 5, 10, 50] # Determines the minimum sample split size before stopping\n",
    "param_grid_dt = {\"max_depth\": max_depths,\n",
    "                            \"min_samples_split\": min_splits,}\n",
    "\n",
    "grid_dt = RandomizedSearchCV(DecisionTreeClassifier(random_state=RANDOM_STATE), \n",
    "                                  param_grid_dt, \n",
    "                                  verbose=3, n_jobs=4,\n",
    "                                  n_iter=20, random_state=RANDOM_STATE)\n",
    "grid_dt.fit(X_train, Y_train)\n",
    "\n",
    "print(f\"Decision Tree Params: {grid_dt.best_params_}\")"
   ]
  },
  {
   "cell_type": "markdown",
   "metadata": {},
   "source": [
    "```{note}\n",
    "This may take a while, so not running RandomizedSearch and using the default values given should work.\n",
    "```"
   ]
  },
  {
   "cell_type": "markdown",
   "metadata": {},
   "source": [
    "Fitting the data to the Decision Tree with the hyperparameters found."
   ]
  },
  {
   "cell_type": "code",
   "execution_count": 19,
   "metadata": {},
   "outputs": [
    {
     "data": {
      "text/html": [
       "<style>#sk-container-id-2 {color: black;}#sk-container-id-2 pre{padding: 0;}#sk-container-id-2 div.sk-toggleable {background-color: white;}#sk-container-id-2 label.sk-toggleable__label {cursor: pointer;display: block;width: 100%;margin-bottom: 0;padding: 0.3em;box-sizing: border-box;text-align: center;}#sk-container-id-2 label.sk-toggleable__label-arrow:before {content: \"▸\";float: left;margin-right: 0.25em;color: #696969;}#sk-container-id-2 label.sk-toggleable__label-arrow:hover:before {color: black;}#sk-container-id-2 div.sk-estimator:hover label.sk-toggleable__label-arrow:before {color: black;}#sk-container-id-2 div.sk-toggleable__content {max-height: 0;max-width: 0;overflow: hidden;text-align: left;background-color: #f0f8ff;}#sk-container-id-2 div.sk-toggleable__content pre {margin: 0.2em;color: black;border-radius: 0.25em;background-color: #f0f8ff;}#sk-container-id-2 input.sk-toggleable__control:checked~div.sk-toggleable__content {max-height: 200px;max-width: 100%;overflow: auto;}#sk-container-id-2 input.sk-toggleable__control:checked~label.sk-toggleable__label-arrow:before {content: \"▾\";}#sk-container-id-2 div.sk-estimator input.sk-toggleable__control:checked~label.sk-toggleable__label {background-color: #d4ebff;}#sk-container-id-2 div.sk-label input.sk-toggleable__control:checked~label.sk-toggleable__label {background-color: #d4ebff;}#sk-container-id-2 input.sk-hidden--visually {border: 0;clip: rect(1px 1px 1px 1px);clip: rect(1px, 1px, 1px, 1px);height: 1px;margin: -1px;overflow: hidden;padding: 0;position: absolute;width: 1px;}#sk-container-id-2 div.sk-estimator {font-family: monospace;background-color: #f0f8ff;border: 1px dotted black;border-radius: 0.25em;box-sizing: border-box;margin-bottom: 0.5em;}#sk-container-id-2 div.sk-estimator:hover {background-color: #d4ebff;}#sk-container-id-2 div.sk-parallel-item::after {content: \"\";width: 100%;border-bottom: 1px solid gray;flex-grow: 1;}#sk-container-id-2 div.sk-label:hover label.sk-toggleable__label {background-color: #d4ebff;}#sk-container-id-2 div.sk-serial::before {content: \"\";position: absolute;border-left: 1px solid gray;box-sizing: border-box;top: 0;bottom: 0;left: 50%;z-index: 0;}#sk-container-id-2 div.sk-serial {display: flex;flex-direction: column;align-items: center;background-color: white;padding-right: 0.2em;padding-left: 0.2em;position: relative;}#sk-container-id-2 div.sk-item {position: relative;z-index: 1;}#sk-container-id-2 div.sk-parallel {display: flex;align-items: stretch;justify-content: center;background-color: white;position: relative;}#sk-container-id-2 div.sk-item::before, #sk-container-id-2 div.sk-parallel-item::before {content: \"\";position: absolute;border-left: 1px solid gray;box-sizing: border-box;top: 0;bottom: 0;left: 50%;z-index: -1;}#sk-container-id-2 div.sk-parallel-item {display: flex;flex-direction: column;z-index: 1;position: relative;background-color: white;}#sk-container-id-2 div.sk-parallel-item:first-child::after {align-self: flex-end;width: 50%;}#sk-container-id-2 div.sk-parallel-item:last-child::after {align-self: flex-start;width: 50%;}#sk-container-id-2 div.sk-parallel-item:only-child::after {width: 0;}#sk-container-id-2 div.sk-dashed-wrapped {border: 1px dashed gray;margin: 0 0.4em 0.5em 0.4em;box-sizing: border-box;padding-bottom: 0.4em;background-color: white;}#sk-container-id-2 div.sk-label label {font-family: monospace;font-weight: bold;display: inline-block;line-height: 1.2em;}#sk-container-id-2 div.sk-label-container {text-align: center;}#sk-container-id-2 div.sk-container {/* jupyter's `normalize.less` sets `[hidden] { display: none; }` but bootstrap.min.css set `[hidden] { display: none !important; }` so we also need the `!important` here to be able to override the default hidden behavior on the sphinx rendered scikit-learn.org. See: https://github.com/scikit-learn/scikit-learn/issues/21755 */display: inline-block !important;position: relative;}#sk-container-id-2 div.sk-text-repr-fallback {display: none;}</style><div id=\"sk-container-id-2\" class=\"sk-top-container\"><div class=\"sk-text-repr-fallback\"><pre>DecisionTreeClassifier(max_depth=10, min_samples_split=5, random_state=1)</pre><b>In a Jupyter environment, please rerun this cell to show the HTML representation or trust the notebook. <br />On GitHub, the HTML representation is unable to render, please try loading this page with nbviewer.org.</b></div><div class=\"sk-container\" hidden><div class=\"sk-item\"><div class=\"sk-estimator sk-toggleable\"><input class=\"sk-toggleable__control sk-hidden--visually\" id=\"sk-estimator-id-2\" type=\"checkbox\" checked><label for=\"sk-estimator-id-2\" class=\"sk-toggleable__label sk-toggleable__label-arrow\">DecisionTreeClassifier</label><div class=\"sk-toggleable__content\"><pre>DecisionTreeClassifier(max_depth=10, min_samples_split=5, random_state=1)</pre></div></div></div></div></div>"
      ],
      "text/plain": [
       "DecisionTreeClassifier(max_depth=10, min_samples_split=5, random_state=1)"
      ]
     },
     "execution_count": 19,
     "metadata": {},
     "output_type": "execute_result"
    }
   ],
   "source": [
    "try:\n",
    "    max_depth_dt = grid_dt.best_params_[\"max_depth\"]\n",
    "    min_samples_split_dt = grid_dt.best_params_[\"min_samples_split\"]\n",
    "except (NameError, AttributeError):\n",
    "    max_depth_dt = 10\n",
    "    min_samples_split_dt = 50\n",
    "\n",
    "model_dt = DecisionTreeClassifier(\n",
    "                            min_samples_split=min_samples_split_dt,\n",
    "                            max_depth=max_depth_dt,\n",
    "                            random_state=RANDOM_STATE)\n",
    "model_dt.fit(X_train, Y_train)"
   ]
  },
  {
   "cell_type": "markdown",
   "metadata": {},
   "source": [
    "Analysis using a classification report, confusion matrix and accuracy."
   ]
  },
  {
   "cell_type": "code",
   "execution_count": 20,
   "metadata": {},
   "outputs": [
    {
     "name": "stdout",
     "output_type": "stream",
     "text": [
      "Classification Report: \n",
      "              precision    recall  f1-score   support\n",
      "\n",
      "           0       1.00      0.98      0.99    241438\n",
      "           1       0.19      0.85      0.32      1428\n",
      "\n",
      "    accuracy                           0.98    242866\n",
      "   macro avg       0.60      0.91      0.65    242866\n",
      "weighted avg       0.99      0.98      0.99    242866\n",
      "\n",
      "\n",
      "Metrics train:\n",
      "\tAccuracy score: 0.9445\n",
      "Metrics test:\n",
      "\tAccuracy score: 0.9784\n",
      "\n",
      "\n",
      "Confusion Matrix:\n"
     ]
    },
    {
     "data": {
      "text/plain": [
       "<sklearn.metrics._plot.confusion_matrix.ConfusionMatrixDisplay at 0x2b3a14090>"
      ]
     },
     "execution_count": 20,
     "metadata": {},
     "output_type": "execute_result"
    },
    {
     "data": {
      "image/png": "[encoded data removed]",
      "text/plain": [
       "<Figure size 640x480 with 2 Axes>"
      ]
     },
     "metadata": {},
     "output_type": "display_data"
    }
   ],
   "source": [
    "Y_pred_dt = model_dt.predict(X_val)\n",
    "\n",
    "print(f\"Classification Report: \\n{classification_report(Y_val, Y_pred_dt)}\\n\")\n",
    "\n",
    "print(\n",
    "    f\"Metrics train:\\n\\tAccuracy score: {accuracy_score(model_dt.predict(X_train),Y_train):.4f}\\nMetrics test:\\n\\tAccuracy score: {accuracy_score(model_dt.predict(X_val),Y_val):.4f}\\n\\n\")\n",
    "\n",
    "print(\"Confusion Matrix:\")\n",
    "cm_display_dt = ConfusionMatrixDisplay(confusion_matrix(Y_val, Y_pred_dt), display_labels=[\"Genuine\", \"Fraud\"])\n",
    "cm_display_dt.plot()"
   ]
  },
  {
   "cell_type": "markdown",
   "metadata": {},
   "source": [
    "## Model: Random Forest\n",
    "Becasue Decision Trees are sensitive to changes in data, we use the tree ensemble method Random Forest to mitigate the effects of changes in data."
   ]
  },
  {
   "cell_type": "markdown",
   "metadata": {},
   "source": [
    "Finding and tuning hyperparameters of the Random Forest using RandomizedSearch."
   ]
  },
  {
   "cell_type": "code",
   "execution_count": 22,
   "metadata": {},
   "outputs": [
    {
     "name": "stdout",
     "output_type": "stream",
     "text": [
      "Fitting 5 folds for each of 10 candidates, totalling 50 fits\n",
      "[CV 3/5] END max_depth=7, min_samples_split=50, n_estimators=50;, score=0.912 total time= 1.5min\n",
      "[CV 4/5] END max_depth=7, min_samples_split=50, n_estimators=50;, score=0.913 total time= 1.5min\n",
      "[CV 2/5] END max_depth=7, min_samples_split=50, n_estimators=50;, score=0.908 total time= 1.5min\n",
      "[CV 1/5] END max_depth=7, min_samples_split=50, n_estimators=50;, score=0.911 total time= 1.5min\n",
      "[CV 5/5] END max_depth=7, min_samples_split=50, n_estimators=50;, score=0.912 total time= 1.4min\n",
      "[CV 3/5] END max_depth=7, min_samples_split=10, n_estimators=100;, score=0.914 total time= 2.8min\n",
      "[CV 1/5] END max_depth=7, min_samples_split=10, n_estimators=100;, score=0.916 total time= 2.8min\n",
      "[CV 2/5] END max_depth=7, min_samples_split=10, n_estimators=100;, score=0.914 total time= 2.9min\n",
      "[CV 1/5] END max_depth=5, min_samples_split=5, n_estimators=50;, score=0.876 total time= 1.1min\n",
      "[CV 2/5] END max_depth=5, min_samples_split=5, n_estimators=50;, score=0.875 total time= 1.1min\n",
      "[CV 4/5] END max_depth=7, min_samples_split=10, n_estimators=100;, score=0.918 total time= 2.9min\n",
      "[CV 3/5] END max_depth=5, min_samples_split=5, n_estimators=50;, score=0.876 total time= 1.1min\n",
      "[CV 4/5] END max_depth=5, min_samples_split=5, n_estimators=50;, score=0.874 total time= 1.1min\n",
      "[CV 5/5] END max_depth=5, min_samples_split=5, n_estimators=50;, score=0.877 total time= 1.1min\n",
      "[CV 5/5] END max_depth=7, min_samples_split=10, n_estimators=100;, score=0.914 total time= 2.8min\n",
      "[CV 1/5] END max_depth=5, min_samples_split=5, n_estimators=150;, score=0.871 total time= 3.2min\n",
      "[CV 2/5] END max_depth=5, min_samples_split=5, n_estimators=150;, score=0.870 total time= 3.2min\n",
      "[CV 3/5] END max_depth=5, min_samples_split=5, n_estimators=150;, score=0.871 total time= 3.2min\n",
      "[CV 4/5] END max_depth=5, min_samples_split=5, n_estimators=150;, score=0.871 total time= 3.2min\n",
      "[CV 5/5] END max_depth=5, min_samples_split=5, n_estimators=150;, score=0.872 total time= 3.2min\n",
      "[CV 1/5] END max_depth=10, min_samples_split=10, n_estimators=100;, score=0.935 total time= 3.8min\n",
      "[CV 2/5] END max_depth=10, min_samples_split=10, n_estimators=100;, score=0.937 total time= 3.8min\n",
      "[CV 3/5] END max_depth=10, min_samples_split=10, n_estimators=100;, score=0.935 total time= 3.8min\n",
      "[CV 1/5] END max_depth=5, min_samples_split=50, n_estimators=50;, score=0.875 total time= 1.1min\n",
      "[CV 2/5] END max_depth=5, min_samples_split=50, n_estimators=50;, score=0.874 total time= 1.1min\n",
      "[CV 3/5] END max_depth=5, min_samples_split=50, n_estimators=50;, score=0.876 total time= 1.1min\n",
      "[CV 4/5] END max_depth=5, min_samples_split=50, n_estimators=50;, score=0.874 total time= 1.1min\n",
      "[CV 4/5] END max_depth=10, min_samples_split=10, n_estimators=100;, score=0.939 total time= 3.8min\n",
      "[CV 5/5] END max_depth=5, min_samples_split=50, n_estimators=50;, score=0.876 total time= 1.1min\n",
      "[CV 5/5] END max_depth=10, min_samples_split=10, n_estimators=100;, score=0.934 total time= 3.7min\n",
      "[CV 1/5] END max_depth=3, min_samples_split=50, n_estimators=200;, score=0.837 total time= 2.8min\n",
      "[CV 2/5] END max_depth=3, min_samples_split=50, n_estimators=200;, score=0.837 total time= 2.8min\n",
      "[CV 3/5] END max_depth=3, min_samples_split=50, n_estimators=200;, score=0.837 total time= 2.8min\n",
      "[CV 4/5] END max_depth=3, min_samples_split=50, n_estimators=200;, score=0.837 total time= 2.8min\n",
      "[CV 5/5] END max_depth=3, min_samples_split=50, n_estimators=200;, score=0.838 total time= 2.8min\n",
      "[CV 1/5] END max_depth=10, min_samples_split=50, n_estimators=200;, score=0.936 total time= 7.4min\n",
      "[CV 2/5] END max_depth=10, min_samples_split=50, n_estimators=200;, score=0.935 total time= 7.4min\n",
      "[CV 3/5] END max_depth=10, min_samples_split=50, n_estimators=200;, score=0.936 total time= 7.5min\n",
      "[CV 4/5] END max_depth=10, min_samples_split=50, n_estimators=200;, score=0.936 total time= 7.5min\n",
      "[CV 1/5] END max_depth=10, min_samples_split=50, n_estimators=100;, score=0.937 total time= 3.8min\n",
      "[CV 2/5] END max_depth=10, min_samples_split=50, n_estimators=100;, score=0.935 total time= 3.8min\n",
      "[CV 3/5] END max_depth=10, min_samples_split=50, n_estimators=100;, score=0.936 total time= 3.7min\n",
      "[CV 5/5] END max_depth=10, min_samples_split=50, n_estimators=200;, score=0.936 total time= 7.5min\n",
      "[CV 4/5] END max_depth=10, min_samples_split=50, n_estimators=100;, score=0.936 total time= 3.7min\n",
      "[CV 5/5] END max_depth=10, min_samples_split=50, n_estimators=100;, score=0.938 total time= 3.7min\n",
      "[CV 1/5] END max_depth=7, min_samples_split=50, n_estimators=200;, score=0.914 total time= 5.7min\n",
      "[CV 2/5] END max_depth=7, min_samples_split=50, n_estimators=200;, score=0.912 total time= 5.7min\n",
      "[CV 3/5] END max_depth=7, min_samples_split=50, n_estimators=200;, score=0.912 total time= 5.6min\n",
      "[CV 4/5] END max_depth=7, min_samples_split=50, n_estimators=200;, score=0.916 total time= 5.7min\n",
      "[CV 5/5] END max_depth=7, min_samples_split=50, n_estimators=200;, score=0.912 total time= 5.1min\n",
      "Random Forest Params: {'n_estimators': 100, 'min_samples_split': 50, 'max_depth': 10}\n"
     ]
    }
   ],
   "source": [
    "max_depths = [3, 5, 7, 10] # Determines how far down a decision tree goes before stopping\n",
    "min_splits = [2, 5, 10, 50] # Determines the minimum sample split size before \n",
    "n_estimators = [50, 100, 150, 200] # Determines the number of trees used per forest\n",
    "param_grid_rf = {\"max_depth\": max_depths,\n",
    "                            \"min_samples_split\": min_splits,\n",
    "                            \"n_estimators\": n_estimators}\n",
    "\n",
    "grid_rf = RandomizedSearchCV(RandomForestClassifier(random_state=RANDOM_STATE), \n",
    "                                  param_grid_rf, \n",
    "                                  verbose=3, n_jobs=4,\n",
    "                                  n_iter=10, random_state=RANDOM_STATE)\n",
    "grid_rf.fit(X_train, Y_train)\n",
    "\n",
    "print(f\"Random Forest Params: {grid_rf.best_params_}\")"
   ]
  },
  {
   "cell_type": "markdown",
   "metadata": {},
   "source": [
    "```{note}\n",
    "This will take a while, so not running RandomizedSearch and using the default values given should work.\n",
    "With the default hyperparameters, it should take 4-12 minutes.\n",
    "```"
   ]
  },
  {
   "cell_type": "markdown",
   "metadata": {},
   "source": [
    "Fitting the data to the Random Forest with the hyperparameters found."
   ]
  },
  {
   "cell_type": "code",
   "execution_count": 23,
   "metadata": {},
   "outputs": [
    {
     "data": {
      "text/html": [
       "<style>#sk-container-id-3 {color: black;}#sk-container-id-3 pre{padding: 0;}#sk-container-id-3 div.sk-toggleable {background-color: white;}#sk-container-id-3 label.sk-toggleable__label {cursor: pointer;display: block;width: 100%;margin-bottom: 0;padding: 0.3em;box-sizing: border-box;text-align: center;}#sk-container-id-3 label.sk-toggleable__label-arrow:before {content: \"▸\";float: left;margin-right: 0.25em;color: #696969;}#sk-container-id-3 label.sk-toggleable__label-arrow:hover:before {color: black;}#sk-container-id-3 div.sk-estimator:hover label.sk-toggleable__label-arrow:before {color: black;}#sk-container-id-3 div.sk-toggleable__content {max-height: 0;max-width: 0;overflow: hidden;text-align: left;background-color: #f0f8ff;}#sk-container-id-3 div.sk-toggleable__content pre {margin: 0.2em;color: black;border-radius: 0.25em;background-color: #f0f8ff;}#sk-container-id-3 input.sk-toggleable__control:checked~div.sk-toggleable__content {max-height: 200px;max-width: 100%;overflow: auto;}#sk-container-id-3 input.sk-toggleable__control:checked~label.sk-toggleable__label-arrow:before {content: \"▾\";}#sk-container-id-3 div.sk-estimator input.sk-toggleable__control:checked~label.sk-toggleable__label {background-color: #d4ebff;}#sk-container-id-3 div.sk-label input.sk-toggleable__control:checked~label.sk-toggleable__label {background-color: #d4ebff;}#sk-container-id-3 input.sk-hidden--visually {border: 0;clip: rect(1px 1px 1px 1px);clip: rect(1px, 1px, 1px, 1px);height: 1px;margin: -1px;overflow: hidden;padding: 0;position: absolute;width: 1px;}#sk-container-id-3 div.sk-estimator {font-family: monospace;background-color: #f0f8ff;border: 1px dotted black;border-radius: 0.25em;box-sizing: border-box;margin-bottom: 0.5em;}#sk-container-id-3 div.sk-estimator:hover {background-color: #d4ebff;}#sk-container-id-3 div.sk-parallel-item::after {content: \"\";width: 100%;border-bottom: 1px solid gray;flex-grow: 1;}#sk-container-id-3 div.sk-label:hover label.sk-toggleable__label {background-color: #d4ebff;}#sk-container-id-3 div.sk-serial::before {content: \"\";position: absolute;border-left: 1px solid gray;box-sizing: border-box;top: 0;bottom: 0;left: 50%;z-index: 0;}#sk-container-id-3 div.sk-serial {display: flex;flex-direction: column;align-items: center;background-color: white;padding-right: 0.2em;padding-left: 0.2em;position: relative;}#sk-container-id-3 div.sk-item {position: relative;z-index: 1;}#sk-container-id-3 div.sk-parallel {display: flex;align-items: stretch;justify-content: center;background-color: white;position: relative;}#sk-container-id-3 div.sk-item::before, #sk-container-id-3 div.sk-parallel-item::before {content: \"\";position: absolute;border-left: 1px solid gray;box-sizing: border-box;top: 0;bottom: 0;left: 50%;z-index: -1;}#sk-container-id-3 div.sk-parallel-item {display: flex;flex-direction: column;z-index: 1;position: relative;background-color: white;}#sk-container-id-3 div.sk-parallel-item:first-child::after {align-self: flex-end;width: 50%;}#sk-container-id-3 div.sk-parallel-item:last-child::after {align-self: flex-start;width: 50%;}#sk-container-id-3 div.sk-parallel-item:only-child::after {width: 0;}#sk-container-id-3 div.sk-dashed-wrapped {border: 1px dashed gray;margin: 0 0.4em 0.5em 0.4em;box-sizing: border-box;padding-bottom: 0.4em;background-color: white;}#sk-container-id-3 div.sk-label label {font-family: monospace;font-weight: bold;display: inline-block;line-height: 1.2em;}#sk-container-id-3 div.sk-label-container {text-align: center;}#sk-container-id-3 div.sk-container {/* jupyter's `normalize.less` sets `[hidden] { display: none; }` but bootstrap.min.css set `[hidden] { display: none !important; }` so we also need the `!important` here to be able to override the default hidden behavior on the sphinx rendered scikit-learn.org. See: https://github.com/scikit-learn/scikit-learn/issues/21755 */display: inline-block !important;position: relative;}#sk-container-id-3 div.sk-text-repr-fallback {display: none;}</style><div id=\"sk-container-id-3\" class=\"sk-top-container\"><div class=\"sk-text-repr-fallback\"><pre>RandomForestClassifier(max_depth=10, min_samples_split=50, random_state=1)</pre><b>In a Jupyter environment, please rerun this cell to show the HTML representation or trust the notebook. <br />On GitHub, the HTML representation is unable to render, please try loading this page with nbviewer.org.</b></div><div class=\"sk-container\" hidden><div class=\"sk-item\"><div class=\"sk-estimator sk-toggleable\"><input class=\"sk-toggleable__control sk-hidden--visually\" id=\"sk-estimator-id-3\" type=\"checkbox\" checked><label for=\"sk-estimator-id-3\" class=\"sk-toggleable__label sk-toggleable__label-arrow\">RandomForestClassifier</label><div class=\"sk-toggleable__content\"><pre>RandomForestClassifier(max_depth=10, min_samples_split=50, random_state=1)</pre></div></div></div></div></div>"
      ],
      "text/plain": [
       "RandomForestClassifier(max_depth=10, min_samples_split=50, random_state=1)"
      ]
     },
     "execution_count": 23,
     "metadata": {},
     "output_type": "execute_result"
    }
   ],
   "source": [
    "try:\n",
    "    max_depth_rf = grid_rf.best_params_[\"max_depth\"]\n",
    "    min_samples_split_rf = grid_rf.best_params_[\"min_samples_split\"]\n",
    "    n_estimators_rf = grid_rf.best_params_[\"n_estimators\"]\n",
    "except (NameError, AttributeError):\n",
    "    max_depth_rf = 10\n",
    "    min_samples_split_rf = 2\n",
    "    n_estimators_rf = 150\n",
    "\n",
    "model_rf = RandomForestClassifier(\n",
    "                            min_samples_split=min_samples_split_rf,\n",
    "                            max_depth=max_depth_rf,\n",
    "                            n_estimators=n_estimators_rf,\n",
    "                            random_state=RANDOM_STATE)\n",
    "model_rf.fit(X_train, Y_train)"
   ]
  },
  {
   "cell_type": "markdown",
   "metadata": {},
   "source": [
    "Analysis using a classification report, confusion matrix and accuracy."
   ]
  },
  {
   "cell_type": "code",
   "execution_count": 24,
   "metadata": {},
   "outputs": [
    {
     "name": "stdout",
     "output_type": "stream",
     "text": [
      "Classification Report: \n",
      "              precision    recall  f1-score   support\n",
      "\n",
      "           0       1.00      0.98      0.99    241438\n",
      "           1       0.22      0.86      0.35      1428\n",
      "\n",
      "    accuracy                           0.98    242866\n",
      "   macro avg       0.61      0.92      0.67    242866\n",
      "weighted avg       0.99      0.98      0.99    242866\n",
      "\n",
      "\n",
      "Metrics train:\n",
      "\tAccuracy score: 0.9361\n",
      "Metrics test:\n",
      "\tAccuracy score: 0.9815\n",
      "\n",
      "\n",
      "Confusion Matrix:\n"
     ]
    },
    {
     "data": {
      "text/plain": [
       "<sklearn.metrics._plot.confusion_matrix.ConfusionMatrixDisplay at 0x28ef3d590>"
      ]
     },
     "execution_count": 24,
     "metadata": {},
     "output_type": "execute_result"
    },
    {
     "data": {
      "image/png": "[encoded data removed]",
      "text/plain": [
       "<Figure size 640x480 with 2 Axes>"
      ]
     },
     "metadata": {},
     "output_type": "display_data"
    }
   ],
   "source": [
    "Y_pred_rf = model_rf.predict(X_val)\n",
    "\n",
    "print(f\"Classification Report: \\n{classification_report(Y_val, Y_pred_rf)}\\n\")\n",
    "\n",
    "print(\n",
    "    f\"Metrics train:\\n\\tAccuracy score: {accuracy_score(model_rf.predict(X_train),Y_train):.4f}\\nMetrics test:\\n\\tAccuracy score: {accuracy_score(model_rf.predict(X_val),Y_val):.4f}\\n\\n\")\n",
    "\n",
    "print(\"Confusion Matrix:\")\n",
    "cm_display_rf = ConfusionMatrixDisplay(confusion_matrix(Y_val, Y_pred_rf), display_labels=[\"Genuine\", \"Fraud\"])\n",
    "cm_display_rf.plot()"
   ]
  },
  {
   "cell_type": "markdown",
   "metadata": {},
   "source": [
    "### Model: XGBoostClassifier\n",
    "In order to speedup the algorithm, we use XGBoost."
   ]
  },
  {
   "cell_type": "markdown",
   "metadata": {},
   "source": [
    "Finding and tuning hyperparameters of the XGBClassifier using RandomizedSearch."
   ]
  },
  {
   "cell_type": "code",
   "execution_count": 36,
   "metadata": {},
   "outputs": [
    {
     "name": "stdout",
     "output_type": "stream",
     "text": [
      "Fitting 5 folds for each of 15 candidates, totalling 75 fits\n",
      "[CV 3/5] END gamma=0.3, learning_rate=0.5, max_depth=7, min_child_weight=7;, score=0.999 total time=   5.1s\n",
      "[CV 1/5] END gamma=0.3, learning_rate=0.5, max_depth=7, min_child_weight=7;, score=0.997 total time=   5.1s\n",
      "[CV 2/5] END gamma=0.3, learning_rate=0.5, max_depth=7, min_child_weight=7;, score=0.999 total time=   5.2s\n",
      "[CV 4/5] END gamma=0.3, learning_rate=0.5, max_depth=7, min_child_weight=7;, score=0.999 total time=   5.2s\n",
      "[CV 5/5] END gamma=0.3, learning_rate=0.5, max_depth=7, min_child_weight=7;, score=0.999 total time=   5.3s\n",
      "[CV 2/5] END gamma=0.3, learning_rate=0.3, max_depth=10, min_child_weight=5;, score=0.999 total time=   7.0s\n",
      "[CV 3/5] END gamma=0.3, learning_rate=0.3, max_depth=10, min_child_weight=5;, score=0.999 total time=   7.1s\n",
      "[CV 1/5] END gamma=0.3, learning_rate=0.3, max_depth=10, min_child_weight=5;, score=0.997 total time=   7.2s\n",
      "[CV 1/5] END gamma=0.3, learning_rate=0.1, max_depth=3, min_child_weight=1;, score=0.969 total time=   3.3s\n",
      "[CV 2/5] END gamma=0.3, learning_rate=0.1, max_depth=3, min_child_weight=1;, score=0.966 total time=   3.4s\n",
      "[CV 4/5] END gamma=0.3, learning_rate=0.3, max_depth=10, min_child_weight=5;, score=0.999 total time=   6.7s\n",
      "[CV 3/5] END gamma=0.3, learning_rate=0.1, max_depth=3, min_child_weight=1;, score=0.968 total time=   3.2s\n",
      "[CV 4/5] END gamma=0.3, learning_rate=0.1, max_depth=3, min_child_weight=1;, score=0.969 total time=   3.3s\n",
      "[CV 5/5] END gamma=0.3, learning_rate=0.3, max_depth=10, min_child_weight=5;, score=0.999 total time=   6.8s\n",
      "[CV 5/5] END gamma=0.3, learning_rate=0.1, max_depth=3, min_child_weight=1;, score=0.966 total time=   3.4s\n",
      "[CV 1/5] END gamma=0.3, learning_rate=0.7, max_depth=3, min_child_weight=7;, score=0.992 total time=   2.9s\n",
      "[CV 3/5] END gamma=0.3, learning_rate=0.7, max_depth=3, min_child_weight=7;, score=0.996 total time=   3.0s\n",
      "[CV 2/5] END gamma=0.3, learning_rate=0.7, max_depth=3, min_child_weight=7;, score=0.996 total time=   3.0s\n",
      "[CV 4/5] END gamma=0.3, learning_rate=0.7, max_depth=3, min_child_weight=7;, score=0.996 total time=   2.8s\n",
      "[CV 5/5] END gamma=0.3, learning_rate=0.7, max_depth=3, min_child_weight=7;, score=0.995 total time=   2.9s\n",
      "[CV 1/5] END gamma=0.3, learning_rate=0.7, max_depth=5, min_child_weight=1;, score=0.996 total time=   3.8s\n",
      "[CV 2/5] END gamma=0.3, learning_rate=0.7, max_depth=5, min_child_weight=1;, score=0.998 total time=   3.9s\n",
      "[CV 3/5] END gamma=0.3, learning_rate=0.7, max_depth=5, min_child_weight=1;, score=0.998 total time=   4.0s\n",
      "[CV 4/5] END gamma=0.3, learning_rate=0.7, max_depth=5, min_child_weight=1;, score=0.998 total time=   3.9s\n",
      "[CV 5/5] END gamma=0.3, learning_rate=0.7, max_depth=5, min_child_weight=1;, score=0.998 total time=   3.9s\n",
      "[CV 1/5] END gamma=0.9, learning_rate=0.1, max_depth=5, min_child_weight=7;, score=0.986 total time=   4.0s\n",
      "[CV 2/5] END gamma=0.9, learning_rate=0.1, max_depth=5, min_child_weight=7;, score=0.988 total time=   4.1s\n",
      "[CV 3/5] END gamma=0.9, learning_rate=0.1, max_depth=5, min_child_weight=7;, score=0.989 total time=   4.0s\n",
      "[CV 4/5] END gamma=0.9, learning_rate=0.1, max_depth=5, min_child_weight=7;, score=0.989 total time=   4.0s\n",
      "[CV 5/5] END gamma=0.9, learning_rate=0.1, max_depth=5, min_child_weight=7;, score=0.989 total time=   3.9s\n",
      "[CV 1/5] END gamma=0.9, learning_rate=0.1, max_depth=3, min_child_weight=5;, score=0.969 total time=   3.0s\n",
      "[CV 2/5] END gamma=0.9, learning_rate=0.1, max_depth=3, min_child_weight=5;, score=0.966 total time=   3.0s\n",
      "[CV 3/5] END gamma=0.9, learning_rate=0.1, max_depth=3, min_child_weight=5;, score=0.968 total time=   3.0s\n",
      "[CV 4/5] END gamma=0.9, learning_rate=0.1, max_depth=3, min_child_weight=5;, score=0.967 total time=   3.0s\n",
      "[CV 5/5] END gamma=0.9, learning_rate=0.1, max_depth=3, min_child_weight=5;, score=0.966 total time=   3.1s\n",
      "[CV 1/5] END gamma=0.3, learning_rate=0.1, max_depth=5, min_child_weight=3;, score=0.986 total time=   4.1s\n",
      "[CV 2/5] END gamma=0.3, learning_rate=0.1, max_depth=5, min_child_weight=3;, score=0.989 total time=   4.1s\n",
      "[CV 3/5] END gamma=0.3, learning_rate=0.1, max_depth=5, min_child_weight=3;, score=0.988 total time=   4.2s\n",
      "[CV 4/5] END gamma=0.3, learning_rate=0.1, max_depth=5, min_child_weight=3;, score=0.990 total time=   4.0s\n",
      "[CV 1/5] END gamma=0.9, learning_rate=0.3, max_depth=3, min_child_weight=7;, score=0.986 total time=   3.0s\n",
      "[CV 5/5] END gamma=0.3, learning_rate=0.1, max_depth=5, min_child_weight=3;, score=0.989 total time=   3.8s\n",
      "[CV 2/5] END gamma=0.9, learning_rate=0.3, max_depth=3, min_child_weight=7;, score=0.989 total time=   3.0s\n",
      "[CV 3/5] END gamma=0.9, learning_rate=0.3, max_depth=3, min_child_weight=7;, score=0.989 total time=   3.1s\n",
      "[CV 4/5] END gamma=0.9, learning_rate=0.3, max_depth=3, min_child_weight=7;, score=0.989 total time=   3.0s\n",
      "[CV 5/5] END gamma=0.9, learning_rate=0.3, max_depth=3, min_child_weight=7;, score=0.989 total time=   3.0s\n",
      "[CV 1/5] END gamma=0.3, learning_rate=1, max_depth=7, min_child_weight=5;, score=0.997 total time=   5.0s\n",
      "[CV 2/5] END gamma=0.3, learning_rate=1, max_depth=7, min_child_weight=5;, score=0.998 total time=   4.8s\n",
      "[CV 3/5] END gamma=0.3, learning_rate=1, max_depth=7, min_child_weight=5;, score=0.999 total time=   4.9s\n",
      "[CV 4/5] END gamma=0.3, learning_rate=1, max_depth=7, min_child_weight=5;, score=0.999 total time=   4.9s\n",
      "[CV 5/5] END gamma=0.3, learning_rate=1, max_depth=7, min_child_weight=5;, score=0.999 total time=   5.0s\n",
      "[CV 1/5] END gamma=0.3, learning_rate=0.1, max_depth=10, min_child_weight=1;, score=0.995 total time=   7.0s\n",
      "[CV 2/5] END gamma=0.3, learning_rate=0.1, max_depth=10, min_child_weight=1;, score=0.997 total time=   7.4s\n",
      "[CV 3/5] END gamma=0.3, learning_rate=0.1, max_depth=10, min_child_weight=1;, score=0.997 total time=   7.5s\n",
      "[CV 4/5] END gamma=0.3, learning_rate=0.1, max_depth=10, min_child_weight=1;, score=0.997 total time=   7.7s\n",
      "[CV 1/5] END gamma=0.9, learning_rate=0.5, max_depth=3, min_child_weight=7;, score=0.990 total time=   3.1s\n",
      "[CV 2/5] END gamma=0.9, learning_rate=0.5, max_depth=3, min_child_weight=7;, score=0.994 total time=   3.1s\n",
      "[CV 5/5] END gamma=0.3, learning_rate=0.1, max_depth=10, min_child_weight=1;, score=0.997 total time=   7.5s\n",
      "[CV 3/5] END gamma=0.9, learning_rate=0.5, max_depth=3, min_child_weight=7;, score=0.993 total time=   3.4s\n",
      "[CV 5/5] END gamma=0.9, learning_rate=0.5, max_depth=3, min_child_weight=7;, score=0.993 total time=   3.3s\n",
      "[CV 4/5] END gamma=0.9, learning_rate=0.5, max_depth=3, min_child_weight=7;, score=0.993 total time=   3.3s\n",
      "[CV 1/5] END gamma=0.1, learning_rate=0.7, max_depth=7, min_child_weight=5;, score=0.997 total time=   4.6s\n",
      "[CV 2/5] END gamma=0.1, learning_rate=0.7, max_depth=7, min_child_weight=5;, score=0.999 total time=   4.8s\n",
      "[CV 3/5] END gamma=0.1, learning_rate=0.7, max_depth=7, min_child_weight=5;, score=0.999 total time=   4.6s\n",
      "[CV 4/5] END gamma=0.1, learning_rate=0.7, max_depth=7, min_child_weight=5;, score=0.999 total time=   4.6s\n",
      "[CV 5/5] END gamma=0.1, learning_rate=0.7, max_depth=7, min_child_weight=5;, score=0.999 total time=   4.7s\n",
      "[CV 1/5] END gamma=0.3, learning_rate=0.1, max_depth=7, min_child_weight=1;, score=0.991 total time=   4.9s\n",
      "[CV 3/5] END gamma=0.3, learning_rate=0.1, max_depth=7, min_child_weight=1;, score=0.993 total time=   4.9s\n",
      "[CV 2/5] END gamma=0.3, learning_rate=0.1, max_depth=7, min_child_weight=1;, score=0.994 total time=   5.0s\n",
      "[CV 4/5] END gamma=0.3, learning_rate=0.1, max_depth=7, min_child_weight=1;, score=0.994 total time=   5.1s\n",
      "[CV 5/5] END gamma=0.3, learning_rate=0.1, max_depth=7, min_child_weight=1;, score=0.994 total time=   5.6s\n",
      "[CV 1/5] END gamma=0.9, learning_rate=0.5, max_depth=10, min_child_weight=5;, score=0.997 total time=   5.4s\n",
      "[CV 2/5] END gamma=0.9, learning_rate=0.5, max_depth=10, min_child_weight=5;, score=0.999 total time=   5.4s\n",
      "[CV 3/5] END gamma=0.9, learning_rate=0.5, max_depth=10, min_child_weight=5;, score=0.999 total time=   4.2s\n",
      "[CV 4/5] END gamma=0.9, learning_rate=0.5, max_depth=10, min_child_weight=5;, score=0.999 total time=   3.8s\n",
      "[CV 5/5] END gamma=0.9, learning_rate=0.5, max_depth=10, min_child_weight=5;, score=0.999 total time=   3.8s\n",
      "Random Forest Params: {'min_child_weight': 5, 'max_depth': 10, 'learning_rate': 0.3, 'gamma': 0.3}\n"
     ]
    }
   ],
   "source": [
    "max_depths = [3, 5, 7, 10] # Determines how far down a decision tree goes before stopping\n",
    "gamma = [0.1, 0.3, 0.5, 0.9] # Determines minimum loss reduction for a split\n",
    "min_child_weight = [1, 3, 5, 7] #  Determines minimum weight needed for a child\n",
    "learning_rate = [0.1, 0.3, 0.5, 0.7, 1]\n",
    "param_grid_xgb = {\"max_depth\": max_depths,\n",
    "                  \"gamma\": gamma,\n",
    "                  \"min_child_weight\": min_child_weight,\n",
    "                  \"learning_rate\": learning_rate}\n",
    "\n",
    "grid_xgb = RandomizedSearchCV(XGBClassifier(random_state=RANDOM_STATE), \n",
    "                                  param_grid_xgb, \n",
    "                                  verbose=3, n_jobs=4,\n",
    "                                  n_iter=15, random_state=RANDOM_STATE)\n",
    "grid_xgb.fit(X_train, Y_train)\n",
    "\n",
    "print(f\"Random Forest Params: {grid_xgb.best_params_}\")"
   ]
  },
  {
   "cell_type": "markdown",
   "metadata": {},
   "source": [
    "```{note}\n",
    "This may take a while, so not running RandomizedSearch and using the default values given should work.\n",
    "```"
   ]
  },
  {
   "cell_type": "markdown",
   "metadata": {},
   "source": [
    "Fitting the data to the XGBClassifier with the hyperparameters found."
   ]
  },
  {
   "cell_type": "code",
   "execution_count": 41,
   "metadata": {},
   "outputs": [
    {
     "data": {
      "text/html": [
       "<style>#sk-container-id-4 {color: black;}#sk-container-id-4 pre{padding: 0;}#sk-container-id-4 div.sk-toggleable {background-color: white;}#sk-container-id-4 label.sk-toggleable__label {cursor: pointer;display: block;width: 100%;margin-bottom: 0;padding: 0.3em;box-sizing: border-box;text-align: center;}#sk-container-id-4 label.sk-toggleable__label-arrow:before {content: \"▸\";float: left;margin-right: 0.25em;color: #696969;}#sk-container-id-4 label.sk-toggleable__label-arrow:hover:before {color: black;}#sk-container-id-4 div.sk-estimator:hover label.sk-toggleable__label-arrow:before {color: black;}#sk-container-id-4 div.sk-toggleable__content {max-height: 0;max-width: 0;overflow: hidden;text-align: left;background-color: #f0f8ff;}#sk-container-id-4 div.sk-toggleable__content pre {margin: 0.2em;color: black;border-radius: 0.25em;background-color: #f0f8ff;}#sk-container-id-4 input.sk-toggleable__control:checked~div.sk-toggleable__content {max-height: 200px;max-width: 100%;overflow: auto;}#sk-container-id-4 input.sk-toggleable__control:checked~label.sk-toggleable__label-arrow:before {content: \"▾\";}#sk-container-id-4 div.sk-estimator input.sk-toggleable__control:checked~label.sk-toggleable__label {background-color: #d4ebff;}#sk-container-id-4 div.sk-label input.sk-toggleable__control:checked~label.sk-toggleable__label {background-color: #d4ebff;}#sk-container-id-4 input.sk-hidden--visually {border: 0;clip: rect(1px 1px 1px 1px);clip: rect(1px, 1px, 1px, 1px);height: 1px;margin: -1px;overflow: hidden;padding: 0;position: absolute;width: 1px;}#sk-container-id-4 div.sk-estimator {font-family: monospace;background-color: #f0f8ff;border: 1px dotted black;border-radius: 0.25em;box-sizing: border-box;margin-bottom: 0.5em;}#sk-container-id-4 div.sk-estimator:hover {background-color: #d4ebff;}#sk-container-id-4 div.sk-parallel-item::after {content: \"\";width: 100%;border-bottom: 1px solid gray;flex-grow: 1;}#sk-container-id-4 div.sk-label:hover label.sk-toggleable__label {background-color: #d4ebff;}#sk-container-id-4 div.sk-serial::before {content: \"\";position: absolute;border-left: 1px solid gray;box-sizing: border-box;top: 0;bottom: 0;left: 50%;z-index: 0;}#sk-container-id-4 div.sk-serial {display: flex;flex-direction: column;align-items: center;background-color: white;padding-right: 0.2em;padding-left: 0.2em;position: relative;}#sk-container-id-4 div.sk-item {position: relative;z-index: 1;}#sk-container-id-4 div.sk-parallel {display: flex;align-items: stretch;justify-content: center;background-color: white;position: relative;}#sk-container-id-4 div.sk-item::before, #sk-container-id-4 div.sk-parallel-item::before {content: \"\";position: absolute;border-left: 1px solid gray;box-sizing: border-box;top: 0;bottom: 0;left: 50%;z-index: -1;}#sk-container-id-4 div.sk-parallel-item {display: flex;flex-direction: column;z-index: 1;position: relative;background-color: white;}#sk-container-id-4 div.sk-parallel-item:first-child::after {align-self: flex-end;width: 50%;}#sk-container-id-4 div.sk-parallel-item:last-child::after {align-self: flex-start;width: 50%;}#sk-container-id-4 div.sk-parallel-item:only-child::after {width: 0;}#sk-container-id-4 div.sk-dashed-wrapped {border: 1px dashed gray;margin: 0 0.4em 0.5em 0.4em;box-sizing: border-box;padding-bottom: 0.4em;background-color: white;}#sk-container-id-4 div.sk-label label {font-family: monospace;font-weight: bold;display: inline-block;line-height: 1.2em;}#sk-container-id-4 div.sk-label-container {text-align: center;}#sk-container-id-4 div.sk-container {/* jupyter's `normalize.less` sets `[hidden] { display: none; }` but bootstrap.min.css set `[hidden] { display: none !important; }` so we also need the `!important` here to be able to override the default hidden behavior on the sphinx rendered scikit-learn.org. See: https://github.com/scikit-learn/scikit-learn/issues/21755 */display: inline-block !important;position: relative;}#sk-container-id-4 div.sk-text-repr-fallback {display: none;}</style><div id=\"sk-container-id-4\" class=\"sk-top-container\"><div class=\"sk-text-repr-fallback\"><pre>XGBClassifier(base_score=None, booster=None, callbacks=None,\n",
       "              colsample_bylevel=None, colsample_bynode=None,\n",
       "              colsample_bytree=None, device=None, early_stopping_rounds=None,\n",
       "              enable_categorical=False, eval_metric=None, feature_types=None,\n",
       "              gamma=0.3, grow_policy=None, importance_type=None,\n",
       "              interaction_constraints=None, learning_rate=0.3, max_bin=None,\n",
       "              max_cat_threshold=None, max_cat_to_onehot=None,\n",
       "              max_delta_step=None, max_depth=10, max_leaves=None,\n",
       "              min_child_weight=5, missing=nan, monotone_constraints=None,\n",
       "              multi_strategy=None, n_estimators=None, n_jobs=None,\n",
       "              num_parallel_tree=None, random_state=1, ...)</pre><b>In a Jupyter environment, please rerun this cell to show the HTML representation or trust the notebook. <br />On GitHub, the HTML representation is unable to render, please try loading this page with nbviewer.org.</b></div><div class=\"sk-container\" hidden><div class=\"sk-item\"><div class=\"sk-estimator sk-toggleable\"><input class=\"sk-toggleable__control sk-hidden--visually\" id=\"sk-estimator-id-4\" type=\"checkbox\" checked><label for=\"sk-estimator-id-4\" class=\"sk-toggleable__label sk-toggleable__label-arrow\">XGBClassifier</label><div class=\"sk-toggleable__content\"><pre>XGBClassifier(base_score=None, booster=None, callbacks=None,\n",
       "              colsample_bylevel=None, colsample_bynode=None,\n",
       "              colsample_bytree=None, device=None, early_stopping_rounds=None,\n",
       "              enable_categorical=False, eval_metric=None, feature_types=None,\n",
       "              gamma=0.3, grow_policy=None, importance_type=None,\n",
       "              interaction_constraints=None, learning_rate=0.3, max_bin=None,\n",
       "              max_cat_threshold=None, max_cat_to_onehot=None,\n",
       "              max_delta_step=None, max_depth=10, max_leaves=None,\n",
       "              min_child_weight=5, missing=nan, monotone_constraints=None,\n",
       "              multi_strategy=None, n_estimators=None, n_jobs=None,\n",
       "              num_parallel_tree=None, random_state=1, ...)</pre></div></div></div></div></div>"
      ],
      "text/plain": [
       "XGBClassifier(base_score=None, booster=None, callbacks=None,\n",
       "              colsample_bylevel=None, colsample_bynode=None,\n",
       "              colsample_bytree=None, device=None, early_stopping_rounds=None,\n",
       "              enable_categorical=False, eval_metric=None, feature_types=None,\n",
       "              gamma=0.3, grow_policy=None, importance_type=None,\n",
       "              interaction_constraints=None, learning_rate=0.3, max_bin=None,\n",
       "              max_cat_threshold=None, max_cat_to_onehot=None,\n",
       "              max_delta_step=None, max_depth=10, max_leaves=None,\n",
       "              min_child_weight=5, missing=nan, monotone_constraints=None,\n",
       "              multi_strategy=None, n_estimators=None, n_jobs=None,\n",
       "              num_parallel_tree=None, random_state=1, ...)"
      ]
     },
     "execution_count": 41,
     "metadata": {},
     "output_type": "execute_result"
    }
   ],
   "source": [
    "try:\n",
    "    max_depth_xgb = grid_xgb.best_params_[\"max_depth\"]\n",
    "    gamma_xgb = grid_xgb.best_params_[\"gamma\"]\n",
    "    min_child_weight_xgb = grid_xgb.best_params_[\"min_child_weight\"]\n",
    "    learning_rate_xgb = grid_xgb.best_params_[\"learning_rate\"]\n",
    "except (NameError, AttributeError):\n",
    "    max_depth_xgb = 7\n",
    "    gamma_xgb = 0.1\n",
    "    min_child_weight_xgb = 5\n",
    "    learning_rate_xgb = 0.3\n",
    "\n",
    "model_xgb = XGBClassifier(\n",
    "                            max_depth=max_depth_xgb,\n",
    "                            gamma=gamma_xgb,\n",
    "                            min_child_weight=min_child_weight_xgb,\n",
    "                            learning_rate =learning_rate_xgb,\n",
    "                            random_state=RANDOM_STATE)\n",
    "\n",
    "model_xgb.fit(X_train, Y_train)"
   ]
  },
  {
   "cell_type": "code",
   "execution_count": 43,
   "metadata": {},
   "outputs": [
    {
     "name": "stdout",
     "output_type": "stream",
     "text": [
      "Classification Report: \n",
      "              precision    recall  f1-score   support\n",
      "\n",
      "           0       1.00      1.00      1.00    241438\n",
      "           1       0.87      0.82      0.84      1428\n",
      "\n",
      "    accuracy                           1.00    242866\n",
      "   macro avg       0.93      0.91      0.92    242866\n",
      "weighted avg       1.00      1.00      1.00    242866\n",
      "\n",
      "\n",
      "Metrics train:\n",
      "\tAccuracy score: 0.9994\n",
      "Metrics test:\n",
      "\tAccuracy score: 0.9982\n",
      "\n",
      "\n",
      "Confusion Matrix:\n"
     ]
    },
    {
     "data": {
      "text/plain": [
       "<sklearn.metrics._plot.confusion_matrix.ConfusionMatrixDisplay at 0x2c35fab50>"
      ]
     },
     "execution_count": 43,
     "metadata": {},
     "output_type": "execute_result"
    },
    {
     "data": {
      "image/png": "[encoded data removed]",
      "text/plain": [
       "<Figure size 640x480 with 2 Axes>"
      ]
     },
     "metadata": {},
     "output_type": "display_data"
    }
   ],
   "source": [
    "Y_pred_xgb = model_xgb.predict(X_val)\n",
    "\n",
    "print(f\"Classification Report: \\n{classification_report(Y_val, Y_pred_xgb)}\\n\")\n",
    "\n",
    "print(\n",
    "    f\"Metrics train:\\n\\tAccuracy score: {accuracy_score(model_xgb.predict(X_train),Y_train):.4f}\\nMetrics test:\\n\\tAccuracy score: {accuracy_score(model_xgb.predict(X_val),Y_val):.4f}\\n\\n\")\n",
    "\n",
    "print(\"Confusion Matrix:\")\n",
    "cm_display_xgb = ConfusionMatrixDisplay(confusion_matrix(Y_val, Y_pred_xgb), display_labels=[\"Genuine\", \"Fraud\"])\n",
    "cm_display_xgb.plot()"
   ]
  },
  {
   "cell_type": "markdown",
   "metadata": {},
   "source": [
    "## Cross Validation"
   ]
  },
  {
   "cell_type": "markdown",
   "metadata": {},
   "source": [
    "We perform cross validation by comparing `f1` scores across the three models we trained."
   ]
  },
  {
   "cell_type": "code",
   "execution_count": 28,
   "metadata": {},
   "outputs": [
    {
     "name": "stdout",
     "output_type": "stream",
     "text": [
      "Decision Tree: Mean F1 Training = 0.9424\n",
      "Decision Tree: F1 Validation = 0.3166\n",
      "Random Forest: Mean F1 Training = 0.9325\n",
      "Random Forest: F1 Validation = 0.3529\n",
      "XGBoost: Mean F1 Training = 0.9988\n",
      "XGBoost: F1 Validation = 0.8518\n"
     ]
    }
   ],
   "source": [
    "models = {\"Decision Tree\": model_dt,\n",
    "          \"Random Forest\": model_rf,\n",
    "          \"XGBoost\": model_xgb}\n",
    "\n",
    "strat_kf = StratifiedKFold(n_splits=5, shuffle=True, random_state=RANDOM_STATE)\n",
    "\n",
    "best_model = None\n",
    "best_f1 = None\n",
    "for name, model in models.items():\n",
    "    cross_val_res = cross_val_score(model, X_train, Y_train, cv=strat_kf, scoring=\"f1\")\n",
    "\n",
    "    val_f1 = f1_score(Y_val, model.predict(X_val))\n",
    "\n",
    "    print(f\"{name}: Mean F1 Training = {cross_val_res.mean():.4f}\")\n",
    "    print(f\"{name}: F1 Validation = {val_f1:.4f}\")\n",
    "\n",
    "    if best_f1 is None or best_f1 < val_f1:\n",
    "        best_model = model\n",
    "        best_f1 = val_f1"
   ]
  },
  {
   "cell_type": "markdown",
   "metadata": {},
   "source": [
    "```{note}\n",
    "This may take a while, so not running the cross validation and using the default best model given below should work.\n",
    "```"
   ]
  },
  {
   "cell_type": "markdown",
   "metadata": {},
   "source": [
    "We found the best model to be the XGBoosted trees because it has the highest `f1` score."
   ]
  },
  {
   "cell_type": "markdown",
   "metadata": {},
   "source": [
    "## Testing\n",
    "\n",
    "Finally, we perform a final test on the best model."
   ]
  },
  {
   "cell_type": "code",
   "execution_count": 29,
   "metadata": {},
   "outputs": [
    {
     "name": "stdout",
     "output_type": "stream",
     "text": [
      "Classification Report: \n",
      "              precision    recall  f1-score   support\n",
      "\n",
      "           0       1.00      1.00      1.00    241438\n",
      "           1       0.87      0.82      0.85      1428\n",
      "\n",
      "    accuracy                           1.00    242866\n",
      "   macro avg       0.94      0.91      0.92    242866\n",
      "weighted avg       1.00      1.00      1.00    242866\n",
      "\n",
      "\n",
      "Metrics test:\n",
      "\tAccuracy score: 0.9983\n",
      "\n",
      "\n",
      "Confusion Matrix:\n"
     ]
    },
    {
     "data": {
      "text/plain": [
       "<sklearn.metrics._plot.confusion_matrix.ConfusionMatrixDisplay at 0x2b766b150>"
      ]
     },
     "execution_count": 29,
     "metadata": {},
     "output_type": "execute_result"
    },
    {
     "data": {
      "image/png": "[encoded data removed]",
      "text/plain": [
       "<Figure size 640x480 with 2 Axes>"
      ]
     },
     "metadata": {},
     "output_type": "display_data"
    }
   ],
   "source": [
    "try:\n",
    "    Y_pred_best = best_model.predict(X_test)\n",
    "except NameError:\n",
    "    Y_pred_best = model_xgb.predict(X_test)\n",
    "\n",
    "print(f\"Classification Report: \\n{classification_report(Y_test, Y_pred_best)}\\n\")\n",
    "\n",
    "print(\n",
    "    f\"Metrics test:\\n\\tAccuracy score: {accuracy_score(best_model.predict(X_test),Y_test):.4f}\\n\\n\")\n",
    "\n",
    "print(\"Confusion Matrix:\")\n",
    "cm_display_best = ConfusionMatrixDisplay(confusion_matrix(Y_test, Y_pred_best), display_labels=[\"Genuine\", \"Fraud\"])\n",
    "cm_display_best.plot()"
   ]
  },
  {
   "cell_type": "markdown",
   "metadata": {},
   "source": [
    "## Feature Importance: XGBoost and SHAP"
   ]
  },
  {
   "cell_type": "markdown",
   "metadata": {},
   "source": [
    "We plot the feature importance using XGBoost's built-in feature importance to calculate the relative importances."
   ]
  },
  {
   "cell_type": "code",
   "execution_count": 44,
   "metadata": {},
   "outputs": [
    {
     "data": {
      "image/png": "[encoded data removed]",
      "text/plain": [
       "<Figure size 640x480 with 1 Axes>"
      ]
     },
     "metadata": {},
     "output_type": "display_data"
    }
   ],
   "source": [
    "importance_scores = model_xgb.feature_importances_\n",
    "relative_importance = importance_scores / importance_scores.sum()\n",
    "relative_importance.sort()\n",
    "\n",
    "# Plotting\n",
    "plt.barh(X_train.columns, relative_importance)\n",
    "plt.xticks(rotation=45)\n",
    "plt.ylabel('Relative Importance')\n",
    "plt.title('Relative Importance of Features')\n",
    "plt.show()"
   ]
  },
  {
   "cell_type": "markdown",
   "metadata": {},
   "source": [
    "We then compare it to the SHAP values."
   ]
  },
  {
   "cell_type": "code",
   "execution_count": 45,
   "metadata": {},
   "outputs": [
    {
     "name": "stderr",
     "output_type": "stream",
     "text": [
      "[15:51:35] WARNING: /Users/runner/work/xgboost/xgboost/src/c_api/c_api.cc:1240: Saving into deprecated binary model format, please consider using `json` or `ubj`. Model format will default to JSON in XGBoost 2.2 if not specified.\n"
     ]
    },
    {
     "data": {
      "image/png": "[encoded data removed]",
      "text/plain": [
       "<Figure size 800x550 with 1 Axes>"
      ]
     },
     "metadata": {},
     "output_type": "display_data"
    }
   ],
   "source": [
    "# Explain the model's predictions using SHAP values\n",
    "explainer = shap.TreeExplainer(model_xgb)\n",
    "shap_values = explainer.shap_values(X_test)\n",
    "\n",
    "# Summary Plot\n",
    "shap.summary_plot(shap_values, X_test, feature_names=X_test.columns, plot_type='bar')\n",
    "plt.show()"
   ]
  }
 ],
 "metadata": {
  "kernelspec": {
   "display_name": "Python 3",
   "language": "python",
   "name": "python3"
  },
  "language_info": {
   "codemirror_mode": {
    "name": "ipython",
    "version": 3
   },
   "file_extension": ".py",
   "mimetype": "text/x-python",
   "name": "python",
   "nbconvert_exporter": "python",
   "pygments_lexer": "ipython3",
   "version": "3.11.0"
  },
  "widgets": {
   "application/vnd.jupyter.widget-state+json": {
    "state": {},
    "version_major": 2,
    "version_minor": 0
   }
  }
 },
 "nbformat": 4,
 "nbformat_minor": 4
}
