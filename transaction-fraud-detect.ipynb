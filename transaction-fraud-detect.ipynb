{
 "cells": [
  {
   "cell_type": "markdown",
   "metadata": {},
   "source": [
    "# Credit Card Transaction Fraud Detection"
   ]
  },
  {
   "cell_type": "code",
   "execution_count": 2,
   "metadata": {},
   "outputs": [],
   "source": [
    "# Preprocessing\n",
    "import numpy as np\n",
    "import pandas as pd\n",
    "from sklearn.preprocessing import OrdinalEncoder\n",
    "from sklearn.preprocessing import StandardScaler\n",
    "from sklearn.model_selection import train_test_split\n",
    "from sklearn.inspection import permutation_importance\n",
    "\n",
    "# Oversampling and Undersampling\n",
    "from imblearn.under_sampling import TomekLinks\n",
    "from imblearn.combine import SMOTETomek\n",
    "\n",
    "# Model\n",
    "from sklearn.linear_model import LogisticRegression\n",
    "from sklearn.tree import DecisionTreeClassifier\n",
    "from sklearn.ensemble import RandomForestClassifier\n",
    "from xgboost import XGBClassifier\n",
    "from sklearn.model_selection import GridSearchCV\n",
    "\n",
    "from sklearn.metrics import accuracy_score\n",
    "from sklearn.metrics import classification_report\n",
    "from sklearn.metrics import confusion_matrix\n",
    "\n",
    "# Cross Validation\n",
    "from sklearn.model_selection import cross_val_score\n",
    "from sklearn.model_selection import StratifiedKFold\n",
    "from sklearn.metrics import f1_score\n",
    "\n",
    "# Figures\n",
    "import matplotlib.pyplot as plt\n",
    "from sklearn.metrics import ConfusionMatrixDisplay\n",
    "\n",
    "# For reproducability\n",
    "RANDOM_STATE = 1"
   ]
  },
  {
   "cell_type": "markdown",
   "metadata": {},
   "source": [
    "Loading the data."
   ]
  },
  {
   "cell_type": "code",
   "execution_count": 3,
   "metadata": {},
   "outputs": [],
   "source": [
    "data = pd.read_csv(r\"./fraudTrain.csv\")\n",
    "\n",
    "data.drop(data.columns[0], axis=1, inplace=True)"
   ]
  },
  {
   "cell_type": "markdown",
   "metadata": {},
   "source": [
    "## Imbalanced Data"
   ]
  },
  {
   "cell_type": "code",
   "execution_count": null,
   "metadata": {},
   "outputs": [],
   "source": [
    "labels = [\"Genuine\", \"Fraud\"]\n",
    "\n",
    "is_fraud_train = data[\"is_fraud\"].value_counts()\n",
    "\n",
    "plt.pie(is_fraud_train,labels=labels, colors=[\"lightgreen\", \"lightcoral\"], autopct='%1.1f%%')\n",
    "plt.title(\"Genuine vs. Fraud Transactions\")\n",
    "plt.show()"
   ]
  },
  {
   "cell_type": "markdown",
   "metadata": {},
   "source": [
    "Since 99.4% of the data are genuine transactions, if we do a blind guess of genuine transactions, we will have an accuracy of 99.4%."
   ]
  },
  {
   "cell_type": "markdown",
   "metadata": {},
   "source": [
    "## Preprocessing Data\n",
    "\n",
    "Renaming the columns to be more intuitive and converted the times to be datetimes."
   ]
  },
  {
   "cell_type": "code",
   "execution_count": null,
   "metadata": {},
   "outputs": [],
   "source": [
    "data.rename(columns={\"cc_num\": \"credit_card\",\n",
    "                     \"trans_date_trans_time\": \"trans_time\",\n",
    "                     \"trans_num\": \"trans_id\"},\n",
    "                inplace=True)\n",
    "\n",
    "# Turning the transaction time to be numerical and based on time only.\n",
    "data[\"trans_time\"] = pd.to_datetime(data[\"trans_time\"])\n",
    "data[\"dob\"] = pd.to_datetime(data[\"dob\"])\n",
    "\n",
    "data[\"time\"] = pd.to_datetime(data[\"unix_time\"], unit=\"s\")\n",
    "data[\"time\"] = data[\"time\"].dt.hour\n",
    "\n",
    "\n",
    "\n",
    "data.head(5)"
   ]
  },
  {
   "cell_type": "markdown",
   "metadata": {},
   "source": [
    "Next, we convert the date of birth to age and normalize the amount."
   ]
  },
  {
   "cell_type": "code",
   "execution_count": null,
   "metadata": {},
   "outputs": [],
   "source": [
    "# Normalizing the amount via log(1 + amt)\n",
    "data[\"amt\"] = np.log1p(data[\"amt\"])\n",
    "\n",
    "data[\"age\"] = data[\"trans_time\"].dt.year - data[\"dob\"].dt.year"
   ]
  },
  {
   "cell_type": "markdown",
   "metadata": {},
   "source": [
    "\n",
    "Removing any unecessary features and taking the 4 most recent months as testing data to prevent data leakage."
   ]
  },
  {
   "cell_type": "code",
   "execution_count": null,
   "metadata": {},
   "outputs": [],
   "source": [
    "# Removed trans_id. Replaced unix_time and trans_date_trans_time with time. Replaced dob with age.\n",
    "# Also removed private information such as name, dob, address.\n",
    "features = ['credit_card', 'merchant', 'category', 'amt', 'gender', 'state', 'zip', 'lat', 'long', 'city_pop', 'job', 'age', 'merch_lat', 'merch_long', 'time']\n",
    "categorical_features = ['credit_card', 'merchant', 'category', 'gender', 'state', 'zip', 'job', 'age']\n",
    "target = \"is_fraud\"\n",
    "\n",
    "# Separates all the data within the most recent 4 months\n",
    "most_recent_transaction = data[\"trans_time\"].max()\n",
    "data[\"month_difference\"] = abs(data[\"trans_time\"] - most_recent_transaction) / np.timedelta64(30, \"D\")\n",
    "\n",
    "MONTH_DIFF = 4\n",
    "data_train = data[data.month_difference > MONTH_DIFF]\n",
    "data_test = data[data.month_difference <= MONTH_DIFF]"
   ]
  },
  {
   "cell_type": "markdown",
   "metadata": {},
   "source": [
    "Splitting our data into training and testing and encoding the data"
   ]
  },
  {
   "cell_type": "code",
   "execution_count": null,
   "metadata": {},
   "outputs": [],
   "source": [
    "X = data_train[features]\n",
    "Y = data_train[target]\n",
    "\n",
    "# Split the data into training and testing. Stratify the data to ensure the split is representative of the actual data.\n",
    "X_train_all, X_temp_all, Y_train_all, Y_temp_all = train_test_split(X, Y, stratify=Y, train_size=0.8, random_state=RANDOM_STATE)\n",
    "\n",
    "X_temp_all = pd.concat([X_temp_all, data_test[features]])\n",
    "Y_temp_all = pd.concat([Y_temp_all, data_test[target]])\n",
    "\n",
    "# Using ordinal encodings to encode categorical features for data.\n",
    "ord_enc = OrdinalEncoder(handle_unknown=\"use_encoded_value\", unknown_value=-1, dtype=np.float64)\n",
    "\n",
    "X_train_all.loc[:, categorical_features] = ord_enc.fit_transform(X_train_all[categorical_features])\n",
    "X_temp_all.loc[:, categorical_features] = ord_enc.transform(X_temp_all[categorical_features])\n",
    "\n",
    "X_train_all = X_train_all.astype(\"float64\")\n",
    "X_temp_all = X_temp_all.astype(\"float64\")\n",
    "\n",
    "X_val_all, X_test_all, Y_val_all, Y_test_all = train_test_split(X_temp_all, Y_temp_all, stratify=Y_temp_all, train_size=0.5, random_state=RANDOM_STATE)"
   ]
  },
  {
   "cell_type": "markdown",
   "metadata": {},
   "source": [
    "## Feature Importance"
   ]
  },
  {
   "cell_type": "markdown",
   "metadata": {},
   "source": [
    "To determine which features to select, fit a model to the data."
   ]
  },
  {
   "cell_type": "code",
   "execution_count": null,
   "metadata": {},
   "outputs": [],
   "source": [
    "model_rf = RandomForestClassifier(random_state=RANDOM_STATE)\n",
    "model_rf.fit(X_train_all, Y_train_all)"
   ]
  },
  {
   "cell_type": "markdown",
   "metadata": {},
   "source": [
    "Using the mean decrease in impurity (MDI), plot the feature importance to determine the most important features."
   ]
  },
  {
   "cell_type": "code",
   "execution_count": null,
   "metadata": {},
   "outputs": [],
   "source": [
    "mdi_importances = model_rf.feature_importances_\n",
    "mdi_std = np.std([tree.feature_importances_ for tree in model_rf.estimators_], axis=0)\n",
    "\n",
    "mdi_importances = pd.Series(mdi_importances, index=features)\n",
    "\n",
    "mdi_fig, mdi_ax = plt.subplots()\n",
    "mdi_importances.plot.bar(yerr=mdi_std, ax=mdi_ax)\n",
    "mdi_ax.set_title(\"Feature importances using MDI\")\n",
    "mdi_ax.set_ylabel(\"Mean decrease in impurity\")\n",
    "mdi_fig.tight_layout()"
   ]
  },
  {
   "cell_type": "markdown",
   "metadata": {},
   "source": [
    "Using feature permutation, plot the feature importance to determine the most important features."
   ]
  },
  {
   "cell_type": "code",
   "execution_count": null,
   "metadata": {},
   "outputs": [],
   "source": [
    "perm_res = permutation_importance(\n",
    "    model_rf, X_val_all, Y_val_all, n_repeats=10, random_state=RANDOM_STATE, n_jobs=4\n",
    ")\n",
    "\n",
    "perm_importances = pd.Series(perm_res.importances_mean, index=features)\n",
    "\n",
    "perm_fig, perm_ax = plt.subplots()\n",
    "perm_importances.plot.bar(yerr=perm_res.importances_std, ax=perm_ax)\n",
    "perm_ax.set_title(\"Feature importances using permutation on full model\")\n",
    "perm_ax.set_ylabel(\"Mean accuracy decrease\")\n",
    "perm_fig.tight_layout()\n",
    "plt.show()"
   ]
  },
  {
   "cell_type": "markdown",
   "metadata": {},
   "source": [
    "The features `[\"merchant\", \"category\", \"amt\", \"gender\", \"city_pop\", \"job\", \"age\", \"merch_lat\", \"merch_long\", \"time\"]` were found to be the most important."
   ]
  },
  {
   "cell_type": "code",
   "execution_count": null,
   "metadata": {},
   "outputs": [],
   "source": [
    "selected_features = [\"merchant\", \"category\", \"amt\", \"gender\", \"city_pop\", \"age\", \"job\", \"merch_lat\", \"merch_long\", \"time\"]\n",
    "\n",
    "X_train, X_val, X_test = X_train_all[selected_features], X_val_all[selected_features], X_test_all[selected_features]\n",
    "Y_train, Y_val, Y_test = Y_train_all, Y_val_all, Y_test_all"
   ]
  },
  {
   "cell_type": "markdown",
   "metadata": {},
   "source": [
    "## Baseline Performance\n",
    "First, we take a look at a baseline performance using Logistic Regression"
   ]
  },
  {
   "cell_type": "code",
   "execution_count": null,
   "metadata": {},
   "outputs": [],
   "source": [
    "scalar = StandardScaler()\n",
    "X_train_scaled = scalar.fit_transform(X_train)\n",
    "X_val_scaled = scalar.transform(X_val)\n",
    "\n",
    "model_logreg = LogisticRegression(random_state=RANDOM_STATE, max_iter=1000)\n",
    "model_logreg.fit(X_train_scaled, Y_train)\n",
    "\n",
    "Y_pred_model_logreg = model_logreg.predict(X_val_scaled)"
   ]
  },
  {
   "cell_type": "code",
   "execution_count": null,
   "metadata": {},
   "outputs": [],
   "source": [
    "print(f\"Classification Report: \\n{classification_report(Y_val, Y_pred_model_logreg)}\\n\\n\")\n",
    "\n",
    "print(\n",
    "    f\"Metrics train:\\n\\tAccuracy score: {accuracy_score(model_logreg.predict(X_train_scaled),Y_train):.4f}\\nMetrics test:\\n\\tAccuracy score: {accuracy_score(model_logreg.predict(X_val_scaled),Y_val):.4f}\\n\\n\")\n",
    "\n",
    "print(\"Confusion Matrix:\")\n",
    "cm_display_model = ConfusionMatrixDisplay(confusion_matrix(Y_val, Y_pred_model_logreg), display_labels=[\"Genuine\", \"Fraud\"])\n",
    "cm_display_model.plot()"
   ]
  },
  {
   "cell_type": "markdown",
   "metadata": {},
   "source": [
    "Then, we take a look at the baseline performance of Random Forest"
   ]
  },
  {
   "cell_type": "code",
   "execution_count": null,
   "metadata": {},
   "outputs": [],
   "source": [
    "model_rf.fit(X_train, Y_train)\n",
    "\n",
    "Y_pred_model_rf = model_rf.predict(X_val)"
   ]
  },
  {
   "cell_type": "code",
   "execution_count": null,
   "metadata": {},
   "outputs": [],
   "source": [
    "print(f\"Classification Report: \\n{classification_report(Y_val, Y_pred_model_rf)}\\n\\n\")\n",
    "\n",
    "print(\n",
    "    f\"Metrics train:\\n\\tAccuracy score: {accuracy_score(model_rf.predict(X_train),Y_train):.4f}\\nMetrics test:\\n\\tAccuracy score: {accuracy_score(model_rf.predict(X_val),Y_val):.4f}\\n\\n\")\n",
    "\n",
    "print(\"Confusion Matrix:\")\n",
    "cm_display_model = ConfusionMatrixDisplay(confusion_matrix(Y_val, Y_pred_model_rf), display_labels=[\"Genuine\", \"Fraud\"])\n",
    "cm_display_model.plot()"
   ]
  },
  {
   "cell_type": "markdown",
   "metadata": {},
   "source": [
    "## SMOTE + Tomek Links\n",
    "Because the data is imbalanced, we combine SMOTE and Tomek Links to resample the data."
   ]
  },
  {
   "cell_type": "code",
   "execution_count": null,
   "metadata": {},
   "outputs": [],
   "source": [
    "tomek = TomekLinks(sampling_strategy=\"majority\")\n",
    "smotetomek = SMOTETomek(tomek=tomek, random_state=RANDOM_STATE)\n",
    "\n",
    "X_train_smotetomek, Y_train_smotetomek = smotetomek.fit_resample(X_train, Y_train)\n",
    "\n",
    "# Plot the data after resampling\n",
    "is_fraud_train_smotetomek = Y_train_smotetomek.value_counts()\n",
    "\n",
    "plt.pie(is_fraud_train_smotetomek,labels=labels, colors=[\"lightgreen\", \"lightcoral\"], autopct='%1.1f%%')\n",
    "plt.title(\"Genuine vs. Fraud Transactions After SMOTE + Tomek\")\n",
    "plt.show()"
   ]
  },
  {
   "cell_type": "markdown",
   "metadata": {},
   "source": [
    "Running the line of code below will cause the rest of the notebook to use the SMOTE + Tomek data."
   ]
  },
  {
   "cell_type": "code",
   "execution_count": null,
   "metadata": {},
   "outputs": [],
   "source": [
    "X_train, Y_train = X_train_smotetomek, Y_train_smotetomek"
   ]
  },
  {
   "cell_type": "markdown",
   "metadata": {},
   "source": [
    "## Model: Decision Tree\n",
    "Finding and tuning hyperparameters of the Decision Tree using GridSearch."
   ]
  },
  {
   "cell_type": "code",
   "execution_count": null,
   "metadata": {},
   "outputs": [],
   "source": [
    "max_depths = [3, 5, 7, 10]  # Determines how far down a decision tree goes before stopping\n",
    "min_splits = [2, 5, 10, 50] # Determines the minimum sample split size before stopping\n",
    "param_grid_dt = {\"max_depth\": max_depths,\n",
    "                            \"min_samples_split\": min_splits,}\n",
    "\n",
    "grid_dt = GridSearchCV(DecisionTreeClassifier(random_state=RANDOM_STATE), \n",
    "                                  param_grid_dt, \n",
    "                                  verbose=3, n_jobs=4)\n",
    "grid_dt.fit(X_train, Y_train)\n",
    "\n",
    "print(f\"Decision Tree Params: {grid_dt.best_params_}\")"
   ]
  },
  {
   "cell_type": "markdown",
   "metadata": {},
   "source": [
    "```{note}\n",
    "This may take a while, so not running GridSearch and using the default values given should work.\n",
    "```"
   ]
  },
  {
   "cell_type": "markdown",
   "metadata": {},
   "source": [
    "Fitting the data to the Decision Tree with the hyperparameters found."
   ]
  },
  {
   "cell_type": "code",
   "execution_count": null,
   "metadata": {},
   "outputs": [],
   "source": [
    "try:\n",
    "    max_depth_dt = grid_dt.best_params_[\"max_depth\"]\n",
    "    min_samples_split_dt = grid_dt.best_params_[\"min_samples_split\"]\n",
    "except (NameError, AttributeError):\n",
    "    max_depth_dt = 10\n",
    "    min_samples_split_dt = 50\n",
    "\n",
    "model_dt = DecisionTreeClassifier(\n",
    "                            min_samples_split=min_samples_split_dt,\n",
    "                            max_depth=max_depth_dt,\n",
    "                            random_state=RANDOM_STATE)\n",
    "model_dt.fit(X_train, Y_train)"
   ]
  },
  {
   "cell_type": "markdown",
   "metadata": {},
   "source": [
    "Analysis using a classification report, confusion matrix and accuracy."
   ]
  },
  {
   "cell_type": "code",
   "execution_count": null,
   "metadata": {},
   "outputs": [],
   "source": [
    "Y_pred_dt = model_dt.predict(X_val)\n",
    "\n",
    "print(f\"Classification Report: \\n{classification_report(Y_val, Y_pred_dt)}\\n\")\n",
    "\n",
    "print(\n",
    "    f\"Metrics train:\\n\\tAccuracy score: {accuracy_score(model_dt.predict(X_train),Y_train):.4f}\\nMetrics test:\\n\\tAccuracy score: {accuracy_score(model_dt.predict(X_val),Y_val):.4f}\\n\\n\")\n",
    "\n",
    "print(\"Confusion Matrix:\")\n",
    "cm_display_dt = ConfusionMatrixDisplay(confusion_matrix(Y_val, Y_pred_dt), display_labels=[\"Genuine\", \"Fraud\"])\n",
    "cm_display_dt.plot()"
   ]
  },
  {
   "cell_type": "markdown",
   "metadata": {},
   "source": [
    "## Model: Random Forest\n",
    "Becasue Decision Trees are sensitive to changes in data, we use the tree ensemble method Random Forest to mitigate the effects of changes in data."
   ]
  },
  {
   "cell_type": "markdown",
   "metadata": {},
   "source": [
    "Finding and tuning hyperparameters of the Random Forest using GridSearch."
   ]
  },
  {
   "cell_type": "code",
   "execution_count": null,
   "metadata": {},
   "outputs": [],
   "source": [
    "max_depths = [3, 5, 7, 10] # Determines how far down a decision tree goes before stopping\n",
    "min_splits = [2, 5, 10, 50] # Determines the minimum sample split size before \n",
    "n_estimators = [50, 100, 150, 200] # Determines the number of trees used per forest\n",
    "param_grid_rf = {\"max_depth\": max_depths,\n",
    "                            \"min_samples_split\": min_splits,\n",
    "                            \"n_estimators\": n_estimators}\n",
    "\n",
    "grid_rf = GridSearchCV(RandomForestClassifier(random_state=RANDOM_STATE), \n",
    "                                  param_grid_rf, \n",
    "                                  verbose=3, n_jobs=4)\n",
    "grid_rf.fit(X_train, Y_train)\n",
    "\n",
    "print(f\"Random Forest Params: {grid_rf.best_params_}\")"
   ]
  },
  {
   "cell_type": "markdown",
   "metadata": {},
   "source": [
    "```{note}\n",
    "This will take a while, so not running GridSearch and using the default values given should work.\n",
    "With the default hyperparameters, it should take 4-12 minutes.\n",
    "```"
   ]
  },
  {
   "cell_type": "markdown",
   "metadata": {},
   "source": [
    "Fitting the data to the Random Forest with the hyperparameters found."
   ]
  },
  {
   "cell_type": "code",
   "execution_count": null,
   "metadata": {},
   "outputs": [],
   "source": [
    "try:\n",
    "    max_depth_rf = grid_rf.best_params_[\"max_depth\"]\n",
    "    min_samples_split_rf = grid_rf.best_params_[\"min_samples_split\"]\n",
    "    n_estimators_rf = grid_rf.best_params_[\"n_estimators\"]\n",
    "except (NameError, AttributeError):\n",
    "    max_depth_rf = 10\n",
    "    min_samples_split_rf = 2\n",
    "    n_estimators_rf = 150\n",
    "\n",
    "model_rf = RandomForestClassifier(\n",
    "                            min_samples_split=min_samples_split_rf,\n",
    "                            max_depth=max_depth_rf,\n",
    "                            n_estimators=n_estimators_rf,\n",
    "                            random_state=RANDOM_STATE)\n",
    "model_rf.fit(X_train, Y_train)"
   ]
  },
  {
   "cell_type": "markdown",
   "metadata": {},
   "source": [
    "Analysis using a classification report, confusion matrix and accuracy."
   ]
  },
  {
   "cell_type": "code",
   "execution_count": null,
   "metadata": {},
   "outputs": [],
   "source": [
    "Y_pred_rf = model_rf.predict(X_val)\n",
    "\n",
    "print(f\"Classification Report: \\n{classification_report(Y_val, Y_pred_rf)}\\n\")\n",
    "\n",
    "print(\n",
    "    f\"Metrics train:\\n\\tAccuracy score: {accuracy_score(model_rf.predict(X_train),Y_train):.4f}\\nMetrics test:\\n\\tAccuracy score: {accuracy_score(model_rf.predict(X_val),Y_val):.4f}\\n\\n\")\n",
    "\n",
    "print(\"Confusion Matrix:\")\n",
    "cm_display_rf = ConfusionMatrixDisplay(confusion_matrix(Y_val, Y_pred_rf), display_labels=[\"Genuine\", \"Fraud\"])\n",
    "cm_display_rf.plot()"
   ]
  },
  {
   "cell_type": "markdown",
   "metadata": {},
   "source": [
    "### Model: XGBoostClassifier\n",
    "In order to speedup the algorithm, we use XGBoost."
   ]
  },
  {
   "cell_type": "markdown",
   "metadata": {},
   "source": [
    "Finding and tuning hyperparameters of the XGBClassifier using GridSearch."
   ]
  },
  {
   "cell_type": "code",
   "execution_count": null,
   "metadata": {},
   "outputs": [],
   "source": [
    "max_depths = [3, 5, 7, 10] # Determines how far down a decision tree goes before stopping\n",
    "gamma = [0.1, 0.3, 0.5, 0.9] # Determines minimum loss reduction for a split\n",
    "min_child_weight = [1, 3, 5, 7] #  Determines minimum weight needed for a child\n",
    "param_grid_xgb = {\"max_depth\": max_depths,\n",
    "                  \"gamma\": gamma,\n",
    "                  \"min_child_weight\": min_child_weight}\n",
    "\n",
    "grid_xgb = GridSearchCV(XGBClassifier(random_state=RANDOM_STATE), \n",
    "                                  param_grid_xgb, \n",
    "                                  verbose=3, n_jobs=4)\n",
    "grid_xgb.fit(X_train, Y_train)\n",
    "\n",
    "print(f\"Random Forest Params: {grid_xgb.best_params_}\")"
   ]
  },
  {
   "cell_type": "markdown",
   "metadata": {},
   "source": [
    "```{note}\n",
    "This may take a while, so not running GridSearch and using the default values given should work.\n",
    "```"
   ]
  },
  {
   "cell_type": "markdown",
   "metadata": {},
   "source": [
    "Fitting the data to the XGBClassifier with the hyperparameters found."
   ]
  },
  {
   "cell_type": "code",
   "execution_count": null,
   "metadata": {},
   "outputs": [],
   "source": [
    "try:\n",
    "    max_depth_xgb = grid_xgb.best_params_[\"max_depth\"]\n",
    "    gamma_xgb = grid_xgb.best_params_[\"gamma\"]\n",
    "    min_child_weight_xgb = grid_xgb.best_params_[\"min_child_weight\"]\n",
    "except (NameError, AttributeError):\n",
    "    max_depth_xgb = 7\n",
    "    gamma_xgb = 0.1\n",
    "    min_child_weight_xgb = 5\n",
    "\n",
    "model_xgb = XGBClassifier(\n",
    "                            max_depth=max_depth_xgb,\n",
    "                            gamma=gamma_xgb,\n",
    "                            min_child_weight=min_child_weight_xgb,\n",
    "                            random_state=RANDOM_STATE)\n",
    "\n",
    "model_xgb.fit(X_train, Y_train)"
   ]
  },
  {
   "cell_type": "code",
   "execution_count": null,
   "metadata": {},
   "outputs": [],
   "source": [
    "Y_pred_xgb = model_xgb.predict(X_val)\n",
    "\n",
    "print(f\"Classification Report: \\n{classification_report(Y_val, Y_pred_xgb)}\\n\")\n",
    "\n",
    "print(\n",
    "    f\"Metrics train:\\n\\tAccuracy score: {accuracy_score(model_xgb.predict(X_train),Y_train):.4f}\\nMetrics test:\\n\\tAccuracy score: {accuracy_score(model_xgb.predict(X_val),Y_val):.4f}\\n\\n\")\n",
    "\n",
    "print(\"Confusion Matrix:\")\n",
    "cm_display_xgb = ConfusionMatrixDisplay(confusion_matrix(Y_val, Y_pred_xgb), display_labels=[\"Genuine\", \"Fraud\"])\n",
    "cm_display_xgb.plot()"
   ]
  },
  {
   "cell_type": "markdown",
   "metadata": {},
   "source": [
    "## Cross Validation"
   ]
  },
  {
   "cell_type": "markdown",
   "metadata": {},
   "source": [
    "We perform cross validation by comparing `f1` scores across the three models we trained."
   ]
  },
  {
   "cell_type": "code",
   "execution_count": null,
   "metadata": {},
   "outputs": [],
   "source": [
    "models = {\"Decision Tree\": model_dt,\n",
    "          \"Random Forest\": model_rf,\n",
    "          \"XGBoost\": model_xgb}\n",
    "\n",
    "strat_kf = StratifiedKFold(n_splits=5, shuffle=True, random_state=RANDOM_STATE)\n",
    "\n",
    "best_model = None\n",
    "best_f1 = None\n",
    "for name, model in models.items():\n",
    "    cross_val_res = cross_val_score(model, X_train, Y_train, cv=strat_kf, scoring=\"f1\")\n",
    "\n",
    "    val_f1 = f1_score(Y_val, model.predict(X_val))\n",
    "\n",
    "    print(f\"{name}: Mean F1 Training = {cross_val_res.mean():.4f}\")\n",
    "    print(f\"{name}: F1 Validation = {val_f1:.4f}\")\n",
    "\n",
    "    if best_f1 is None or best_f1 < val_f1:\n",
    "        best_model = model\n",
    "        best_f1 = val_f1"
   ]
  },
  {
   "cell_type": "markdown",
   "metadata": {},
   "source": [
    "```{note}\n",
    "This may take a while, so not running the cross validation and using the default best model given below should work.\n",
    "```"
   ]
  },
  {
   "cell_type": "markdown",
   "metadata": {},
   "source": [
    "We found the best model to be the XGBoosted trees because it has the highest `f1` score."
   ]
  },
  {
   "cell_type": "markdown",
   "metadata": {},
   "source": [
    "## Testing\n",
    "\n",
    "Finally, we perform a final test on the best model."
   ]
  },
  {
   "cell_type": "code",
   "execution_count": null,
   "metadata": {},
   "outputs": [],
   "source": [
    "try:\n",
    "    Y_pred_best = best_model.predict(X_test)\n",
    "except NameError:\n",
    "    Y_pred_best = model_xgb.predict(X_test)\n",
    "\n",
    "print(f\"Classification Report: \\n{classification_report(Y_test, Y_pred_best)}\\n\")\n",
    "\n",
    "print(\n",
    "    f\"Metrics test:\\n\\tAccuracy score: {accuracy_score(best_model.predict(X_test),Y_test):.4f}\\n\\n\")\n",
    "\n",
    "print(\"Confusion Matrix:\")\n",
    "cm_display_best = ConfusionMatrixDisplay(confusion_matrix(Y_test, Y_pred_best), display_labels=[\"Genuine\", \"Fraud\"])\n",
    "cm_display_best.plot()"
   ]
  }
 ],
 "metadata": {
  "kernelspec": {
   "display_name": "Python 3",
   "language": "python",
   "name": "python3"
  },
  "language_info": {
   "codemirror_mode": {
    "name": "ipython",
    "version": 3
   },
   "file_extension": ".py",
   "mimetype": "text/x-python",
   "name": "python",
   "nbconvert_exporter": "python",
   "pygments_lexer": "ipython3",
   "version": "3.11.0"
  },
  "widgets": {
   "application/vnd.jupyter.widget-state+json": {
    "state": {},
    "version_major": 2,
    "version_minor": 0
   }
  }
 },
 "nbformat": 4,
 "nbformat_minor": 4
}
